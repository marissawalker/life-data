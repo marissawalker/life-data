{
 "cells": [
  {
   "cell_type": "markdown",
   "id": "c314295f-c301-447c-8d3d-638bc0da4a1b",
   "metadata": {},
   "source": [
    "# Location Data\n",
    "I have downloaded all my location history from Google Takeout, which contains my location data from 2014-2023. \n",
    "I used the Records.json file that was downloaded in this. There are also separate folders for each year in a folder called \"Semantic Location History\", which I did not explore yet."
   ]
  },
  {
   "cell_type": "code",
   "execution_count": 4,
   "id": "77a3dea8-72f2-4093-aa10-3d45545504c0",
   "metadata": {},
   "outputs": [],
   "source": [
    "import pandas as pd\n",
    "import numpy as np\n",
    "from matplotlib import pyplot as plt\n",
    "from geopy.geocoders import Nominatim"
   ]
  },
  {
   "cell_type": "code",
   "execution_count": 5,
   "id": "d3831b83-19ce-4f20-8ad6-028d0bd4e2c7",
   "metadata": {},
   "outputs": [],
   "source": [
    "from geopy.distance import distance\n",
    "from geopy.distance import Distance"
   ]
  },
  {
   "cell_type": "markdown",
   "id": "6f5ad155-ea5c-43cd-a242-13463bbb0fe7",
   "metadata": {},
   "source": [
    "## Load and Clean Data\n",
    "Here I will do a few steps to make the data in the format that I want. I will:\n",
    "- Load data into a pandas dataframe and look at the basic info about it\n",
    "- Drop unnecessary columns and deal with null data\n",
    "- Convert timestamp column to datetime format\n",
    "- Group data records by hour to reduce the size of the data frame while still keeping enough precision for my purposes"
   ]
  },
  {
   "cell_type": "code",
   "execution_count": 6,
   "id": "7753d7ea-2149-4aa8-ba46-060b47a19d3d",
   "metadata": {},
   "outputs": [],
   "source": [
    "filename = 'Takeout/Location History/Records.json'"
   ]
  },
  {
   "cell_type": "markdown",
   "id": "891e6247-316c-4793-ab56-ef75458e4738",
   "metadata": {},
   "source": [
    "Note: These next two cells take a *long* time at least for me. I'm sure there are ways to speed it up but I'm a patient person, so I just waited for the file to load :)"
   ]
  },
  {
   "cell_type": "code",
   "execution_count": 8,
   "id": "86b5b545-b05d-40be-91b7-f21408befc13",
   "metadata": {},
   "outputs": [],
   "source": [
    "# this line took a while\n",
    "df_records=pd.read_json(filename)"
   ]
  },
  {
   "cell_type": "code",
   "execution_count": 9,
   "id": "d807acbe-d65b-432b-ba35-d446aa7f2a31",
   "metadata": {},
   "outputs": [],
   "source": [
    "df_locations = pd.json_normalize(df_records['locations'])"
   ]
  },
  {
   "cell_type": "code",
   "execution_count": 10,
   "id": "f494680d-cd84-4044-86aa-3ace64e81d8d",
   "metadata": {},
   "outputs": [],
   "source": [
    "# Convert Timestamp column to datetime format\n",
    "df_locations['timestamp'] = pd.to_datetime(df_locations['timestamp'],format='mixed')"
   ]
  },
  {
   "cell_type": "markdown",
   "id": "a095ae7d-4910-4178-a9d9-fc516ac15e97",
   "metadata": {},
   "source": [
    "Let's get basic info about the dataframe:"
   ]
  },
  {
   "cell_type": "code",
   "execution_count": 11,
   "id": "05c11ad9-8222-4df7-8ce4-7042a3e40520",
   "metadata": {},
   "outputs": [
    {
     "name": "stdout",
     "output_type": "stream",
     "text": [
      "<class 'pandas.core.frame.DataFrame'>\n",
      "RangeIndex: 1861956 entries, 0 to 1861955\n",
      "Data columns (total 22 columns):\n",
      " #   Column                       Dtype              \n",
      "---  ------                       -----              \n",
      " 0   latitudeE7                   float64            \n",
      " 1   longitudeE7                  float64            \n",
      " 2   accuracy                     float64            \n",
      " 3   activity                     object             \n",
      " 4   source                       object             \n",
      " 5   deviceTag                    int64              \n",
      " 6   timestamp                    datetime64[ns, UTC]\n",
      " 7   deviceDesignation            object             \n",
      " 8   velocity                     float64            \n",
      " 9   heading                      float64            \n",
      " 10  altitude                     float64            \n",
      " 11  verticalAccuracy             float64            \n",
      " 12  platformType                 object             \n",
      " 13  osLevel                      float64            \n",
      " 14  serverTimestamp              object             \n",
      " 15  deviceTimestamp              object             \n",
      " 16  batteryCharging              object             \n",
      " 17  formFactor                   object             \n",
      " 18  locationMetadata             object             \n",
      " 19  inferredLocation             object             \n",
      " 20  placeId                      object             \n",
      " 21  activeWifiScan.accessPoints  object             \n",
      "dtypes: datetime64[ns, UTC](1), float64(8), int64(1), object(12)\n",
      "memory usage: 312.5+ MB\n"
     ]
    }
   ],
   "source": [
    "df_locations.info()"
   ]
  },
  {
   "cell_type": "markdown",
   "id": "48f08122-1e94-4924-8fd6-5303dcc555b9",
   "metadata": {},
   "source": [
    "Whoa more than 1.8 million entries!"
   ]
  },
  {
   "cell_type": "markdown",
   "id": "bb56defb-0b98-42ce-892c-2cc50227a509",
   "metadata": {},
   "source": [
    "### Remove unneeded columns\n",
    "There are a lot of columns and I don't want them all so I will drop some."
   ]
  },
  {
   "cell_type": "code",
   "execution_count": 12,
   "id": "03ef3894-8c09-45c9-a37c-0be1561154bf",
   "metadata": {},
   "outputs": [
    {
     "data": {
      "text/plain": [
       "Index(['latitudeE7', 'longitudeE7', 'accuracy', 'activity', 'source',\n",
       "       'deviceTag', 'timestamp', 'deviceDesignation', 'velocity', 'heading',\n",
       "       'altitude', 'verticalAccuracy', 'platformType', 'osLevel',\n",
       "       'serverTimestamp', 'deviceTimestamp', 'batteryCharging', 'formFactor',\n",
       "       'locationMetadata', 'inferredLocation', 'placeId',\n",
       "       'activeWifiScan.accessPoints'],\n",
       "      dtype='object')"
      ]
     },
     "execution_count": 12,
     "metadata": {},
     "output_type": "execute_result"
    }
   ],
   "source": [
    "# Get a list of all the columns to easily copy and paste the ones I want to drop\n",
    "df_locations.columns"
   ]
  },
  {
   "cell_type": "code",
   "execution_count": 13,
   "id": "d43acaf6-f0b7-4392-9c90-879bad038ae9",
   "metadata": {},
   "outputs": [],
   "source": [
    "# Drop the columns I don't care about\n",
    "df_locations.drop(columns=['deviceDesignation', 'velocity', 'heading',\n",
    "       'altitude', 'verticalAccuracy', 'platformType', 'osLevel',\n",
    "       'serverTimestamp', 'deviceTimestamp', 'batteryCharging', 'formFactor',\n",
    "       'locationMetadata', 'inferredLocation', 'placeId',\n",
    "       'activeWifiScan.accessPoints','activity','source'],inplace=True)"
   ]
  },
  {
   "cell_type": "markdown",
   "id": "6f1e4356-5b20-4faa-9488-cab3cbe1c198",
   "metadata": {},
   "source": [
    "### Remove Null Data\n",
    "First see which data points are null now:"
   ]
  },
  {
   "cell_type": "code",
   "execution_count": 14,
   "id": "a09f7406-a2e8-44d7-b9c7-8f22d738e725",
   "metadata": {},
   "outputs": [
    {
     "data": {
      "text/html": [
       "<div>\n",
       "<style scoped>\n",
       "    .dataframe tbody tr th:only-of-type {\n",
       "        vertical-align: middle;\n",
       "    }\n",
       "\n",
       "    .dataframe tbody tr th {\n",
       "        vertical-align: top;\n",
       "    }\n",
       "\n",
       "    .dataframe thead th {\n",
       "        text-align: right;\n",
       "    }\n",
       "</style>\n",
       "<table border=\"1\" class=\"dataframe\">\n",
       "  <thead>\n",
       "    <tr style=\"text-align: right;\">\n",
       "      <th></th>\n",
       "      <th>latitudeE7</th>\n",
       "      <th>longitudeE7</th>\n",
       "      <th>accuracy</th>\n",
       "      <th>timestamp</th>\n",
       "    </tr>\n",
       "  </thead>\n",
       "  <tbody>\n",
       "    <tr>\n",
       "      <th>1706603</th>\n",
       "      <td>NaN</td>\n",
       "      <td>NaN</td>\n",
       "      <td>NaN</td>\n",
       "      <td>2022-12-18 22:25:04.666000+00:00</td>\n",
       "    </tr>\n",
       "    <tr>\n",
       "      <th>1706604</th>\n",
       "      <td>NaN</td>\n",
       "      <td>NaN</td>\n",
       "      <td>NaN</td>\n",
       "      <td>2022-12-18 22:35:34.158000+00:00</td>\n",
       "    </tr>\n",
       "    <tr>\n",
       "      <th>1706605</th>\n",
       "      <td>NaN</td>\n",
       "      <td>NaN</td>\n",
       "      <td>NaN</td>\n",
       "      <td>2022-12-18 22:45:42.531000+00:00</td>\n",
       "    </tr>\n",
       "    <tr>\n",
       "      <th>1706606</th>\n",
       "      <td>NaN</td>\n",
       "      <td>NaN</td>\n",
       "      <td>NaN</td>\n",
       "      <td>2022-12-18 22:57:31.851000+00:00</td>\n",
       "    </tr>\n",
       "    <tr>\n",
       "      <th>1706618</th>\n",
       "      <td>NaN</td>\n",
       "      <td>NaN</td>\n",
       "      <td>NaN</td>\n",
       "      <td>2022-12-18 23:27:06.622000+00:00</td>\n",
       "    </tr>\n",
       "    <tr>\n",
       "      <th>1706619</th>\n",
       "      <td>NaN</td>\n",
       "      <td>NaN</td>\n",
       "      <td>NaN</td>\n",
       "      <td>2022-12-18 23:35:52.752000+00:00</td>\n",
       "    </tr>\n",
       "    <tr>\n",
       "      <th>1706620</th>\n",
       "      <td>NaN</td>\n",
       "      <td>NaN</td>\n",
       "      <td>NaN</td>\n",
       "      <td>2022-12-18 23:50:06.056000+00:00</td>\n",
       "    </tr>\n",
       "  </tbody>\n",
       "</table>\n",
       "</div>"
      ],
      "text/plain": [
       "         latitudeE7  longitudeE7  accuracy                        timestamp\n",
       "1706603         NaN          NaN       NaN 2022-12-18 22:25:04.666000+00:00\n",
       "1706604         NaN          NaN       NaN 2022-12-18 22:35:34.158000+00:00\n",
       "1706605         NaN          NaN       NaN 2022-12-18 22:45:42.531000+00:00\n",
       "1706606         NaN          NaN       NaN 2022-12-18 22:57:31.851000+00:00\n",
       "1706618         NaN          NaN       NaN 2022-12-18 23:27:06.622000+00:00\n",
       "1706619         NaN          NaN       NaN 2022-12-18 23:35:52.752000+00:00\n",
       "1706620         NaN          NaN       NaN 2022-12-18 23:50:06.056000+00:00"
      ]
     },
     "execution_count": 14,
     "metadata": {},
     "output_type": "execute_result"
    }
   ],
   "source": [
    "df_locations[df_locations['latitudeE7'].isnull()][['latitudeE7','longitudeE7','accuracy','timestamp']]"
   ]
  },
  {
   "cell_type": "markdown",
   "id": "bdd4039e-58a7-4e9e-9f23-0ab9357fb20a",
   "metadata": {},
   "source": [
    "They happen to be all in one day within a short time span. If I remove those, am I missing much data? I can see how many other data points are that same day:"
   ]
  },
  {
   "cell_type": "code",
   "execution_count": 15,
   "id": "1c6e516f-6608-4de8-942a-6e2d71a3fdb8",
   "metadata": {},
   "outputs": [
    {
     "data": {
      "text/plain": [
       "450"
      ]
     },
     "execution_count": 15,
     "metadata": {},
     "output_type": "execute_result"
    }
   ],
   "source": [
    "len(df_locations[df_locations['timestamp'].dt.date == pd.to_datetime('2022-12-18').date()])"
   ]
  },
  {
   "cell_type": "markdown",
   "id": "ad2fc9bb-17a7-4093-9ee5-a45175c726a1",
   "metadata": {},
   "source": [
    "Then I think it's safe to say I can just drop those rows and not worry about it."
   ]
  },
  {
   "cell_type": "code",
   "execution_count": 16,
   "id": "2e4157f0-7516-42b3-b899-adbdb7e2889b",
   "metadata": {},
   "outputs": [],
   "source": [
    "df_locations.dropna(inplace=True)"
   ]
  },
  {
   "cell_type": "markdown",
   "id": "84e6faa6-e3dc-49e7-90a6-b38c5597ed1e",
   "metadata": {},
   "source": [
    "### Group data by hour\n",
    "As can be seen from the brief sample of timestamps shown earlier, there are often multiple data points per hour. For my purposes, hourly precision is more than enough, so I'm going to group by the date and hour, and aggregate the location to be the mean latitude and longitude of that hour. "
   ]
  },
  {
   "cell_type": "code",
   "execution_count": 17,
   "id": "06ae4180-a724-4d88-bc9e-348f4aab1ac8",
   "metadata": {},
   "outputs": [],
   "source": [
    "df_locations['date'] = df_locations['timestamp'].dt.date"
   ]
  },
  {
   "cell_type": "code",
   "execution_count": 18,
   "id": "9e80a178-a71f-48f4-9440-1c535a78daff",
   "metadata": {},
   "outputs": [],
   "source": [
    "df_locations['hour'] = df_locations['timestamp'].dt.hour"
   ]
  },
  {
   "cell_type": "code",
   "execution_count": 19,
   "id": "f779183d-2120-4523-899e-44c508e0e1f7",
   "metadata": {},
   "outputs": [],
   "source": [
    "df_locations = df_locations.groupby([df_locations['date'],df_locations['hour']]).aggregate(\n",
    "    latitudeE7 = ('latitudeE7','mean'),longitudeE7 = ('longitudeE7','mean')).reset_index()"
   ]
  },
  {
   "cell_type": "code",
   "execution_count": 20,
   "id": "871e4aa3-9abd-453d-ba73-f8a060c6d2cd",
   "metadata": {},
   "outputs": [
    {
     "data": {
      "text/plain": [
       "(80835, 4)"
      ]
     },
     "execution_count": 20,
     "metadata": {},
     "output_type": "execute_result"
    }
   ],
   "source": [
    "df_locations.shape"
   ]
  },
  {
   "cell_type": "markdown",
   "id": "0ab08412-df28-4a63-82ff-d24e63ca3b55",
   "metadata": {},
   "source": [
    "Okay! 80 thousand entries is still plenty for me to work with :)"
   ]
  },
  {
   "cell_type": "markdown",
   "id": "b735bc33-199c-4c17-b92b-b27def215323",
   "metadata": {},
   "source": [
    "### Create latitude and longitude columns\n",
    "Looks like the current data has latitude and longitude times 10^7. I'm going to divide that out to get regular latitude and longitude, just to make it slightly easier for me to look at (and copy and paste values into google maps to sanity check things)."
   ]
  },
  {
   "cell_type": "code",
   "execution_count": 21,
   "id": "f5ecce16-14e7-4e10-874e-fc3f2ea27572",
   "metadata": {},
   "outputs": [],
   "source": [
    "df_locations['latitude'] = (df_locations['latitudeE7']/1E7).round(decimals=1)\n",
    "df_locations['longitude'] = (df_locations['longitudeE7']/1E7).round(decimals=1)"
   ]
  },
  {
   "cell_type": "markdown",
   "id": "d4b8f518-b776-4e43-9a30-a2064a22dce7",
   "metadata": {},
   "source": [
    "## Get list of places \n",
    "I don't actually have latitudes and longitudes all memorized! So I will use geopy to search for the city/state names. However, doing that 80 thousand times would be pretty redundant since a lot of these places are the same. Also, I don't actually need the locations to be too precise so I'm going to round to one decimal place to do the search. This means it will be around the right city, but it's not going to ever show my exact address."
   ]
  },
  {
   "cell_type": "code",
   "execution_count": 22,
   "id": "b91989c0-9488-4ad2-b7bf-e438ef7a0e2c",
   "metadata": {},
   "outputs": [],
   "source": [
    "df_places = df_locations[['latitude','longitude']].round(decimals=1)"
   ]
  },
  {
   "cell_type": "code",
   "execution_count": 23,
   "id": "b8b43591-ab42-490b-92e2-b574d06b165b",
   "metadata": {},
   "outputs": [],
   "source": [
    "df_places = df_places.groupby(['latitude','longitude']).aggregate(count=('latitude','count')).reset_index()"
   ]
  },
  {
   "cell_type": "code",
   "execution_count": 24,
   "id": "b1856618-3410-4d71-8a3c-ea837add8bf6",
   "metadata": {},
   "outputs": [
    {
     "data": {
      "text/plain": [
       "(1057, 3)"
      ]
     },
     "execution_count": 24,
     "metadata": {},
     "output_type": "execute_result"
    }
   ],
   "source": [
    "df_places.shape"
   ]
  },
  {
   "cell_type": "markdown",
   "id": "f41662e9-31d9-405a-8fa0-bef8a1476823",
   "metadata": {},
   "source": [
    "Okay we've reduced this down to about a thousand places to look up using geopy. This still takes a while for me, but it's more doable."
   ]
  },
  {
   "cell_type": "code",
   "execution_count": 25,
   "id": "068160ba-794c-4e0e-8bfe-370b02b1589f",
   "metadata": {},
   "outputs": [],
   "source": [
    "df_places['city'] = None\n",
    "df_places['county'] = None\n",
    "df_places['state'] = None\n",
    "df_places['country'] = None"
   ]
  },
  {
   "cell_type": "code",
   "execution_count": 26,
   "id": "10baea0e-f0f5-4cff-9556-ea0f7d5740ab",
   "metadata": {
    "scrolled": true
   },
   "outputs": [],
   "source": [
    "geolocator = Nominatim(user_agent=\"read_place_data\")\n",
    "#df_locations['location'] = geolocator.reverse(zip(df_locations['latitude'],df_locations['longitude']))\n",
    "coords = list(zip(df_places['latitude'],df_places['longitude']))\n",
    "full_address=[]\n",
    "for i in range(0,len(coords)):\n",
    "    if df_places.loc[i,'city']==None:\n",
    "        location = geolocator.reverse(coords[i])\n",
    "        # had to include this if statement because I had one weird data point making an error\n",
    "        if location is not None:\n",
    "            address=location.raw['address']\n",
    "            # traverse the data\n",
    "            df_places.loc[i,'city'] = address.get('city', '')\n",
    "            df_places.loc[i,'county'] = address.get('county', '')\n",
    "            df_places.loc[i,'state'] = address.get('state', '')\n",
    "            df_places.loc[i,'country'] = address.get('country', '')"
   ]
  },
  {
   "cell_type": "code",
   "execution_count": 27,
   "id": "d6ab5821-36c3-44bd-8092-6e2f2dbf2425",
   "metadata": {},
   "outputs": [
    {
     "data": {
      "text/plain": [
       "latitude     0\n",
       "longitude    0\n",
       "count        0\n",
       "city         1\n",
       "county       1\n",
       "state        1\n",
       "country      1\n",
       "dtype: int64"
      ]
     },
     "execution_count": 27,
     "metadata": {},
     "output_type": "execute_result"
    }
   ],
   "source": [
    "df_places.isnull().sum()"
   ]
  },
  {
   "cell_type": "markdown",
   "id": "284e1e48-d39d-4676-8c3f-471801eb7999",
   "metadata": {},
   "source": [
    "Okay looks like there's one data point that is null, let's see what it is:"
   ]
  },
  {
   "cell_type": "code",
   "execution_count": 28,
   "id": "2cb0895b-dcae-4f87-a827-48a084aa8817",
   "metadata": {},
   "outputs": [
    {
     "data": {
      "text/html": [
       "<div>\n",
       "<style scoped>\n",
       "    .dataframe tbody tr th:only-of-type {\n",
       "        vertical-align: middle;\n",
       "    }\n",
       "\n",
       "    .dataframe tbody tr th {\n",
       "        vertical-align: top;\n",
       "    }\n",
       "\n",
       "    .dataframe thead th {\n",
       "        text-align: right;\n",
       "    }\n",
       "</style>\n",
       "<table border=\"1\" class=\"dataframe\">\n",
       "  <thead>\n",
       "    <tr style=\"text-align: right;\">\n",
       "      <th></th>\n",
       "      <th>latitude</th>\n",
       "      <th>longitude</th>\n",
       "      <th>count</th>\n",
       "      <th>city</th>\n",
       "      <th>county</th>\n",
       "      <th>state</th>\n",
       "      <th>country</th>\n",
       "    </tr>\n",
       "  </thead>\n",
       "  <tbody>\n",
       "    <tr>\n",
       "      <th>1056</th>\n",
       "      <td>66.7</td>\n",
       "      <td>-28.3</td>\n",
       "      <td>1</td>\n",
       "      <td>None</td>\n",
       "      <td>None</td>\n",
       "      <td>None</td>\n",
       "      <td>None</td>\n",
       "    </tr>\n",
       "  </tbody>\n",
       "</table>\n",
       "</div>"
      ],
      "text/plain": [
       "      latitude  longitude  count  city county state country\n",
       "1056      66.7      -28.3      1  None   None  None    None"
      ]
     },
     "execution_count": 28,
     "metadata": {},
     "output_type": "execute_result"
    }
   ],
   "source": [
    "df_places[df_places['county'].isnull()]"
   ]
  },
  {
   "cell_type": "markdown",
   "id": "70e9aeec-7be2-4000-985d-e2c105ddb89c",
   "metadata": {},
   "source": [
    "I put that into google maps and it's in between Greenland and Iceland. Either an anomalous data point or in the middle of a flight sometime. I'll just leave it as is for now but note that I might throw it out later."
   ]
  },
  {
   "cell_type": "markdown",
   "id": "6f7f6caa-0a81-4bcb-a517-e52a52c7c205",
   "metadata": {},
   "source": [
    "Now I want this list of places to be merged with my full data frame:"
   ]
  },
  {
   "cell_type": "code",
   "execution_count": 29,
   "id": "c3cede14-349f-4072-81b8-23a1c4d72da3",
   "metadata": {},
   "outputs": [],
   "source": [
    "df_locations_merged = df_locations.merge(how='left',right=df_places,left_on=['latitude','longitude'],right_on=['latitude','longitude'])"
   ]
  },
  {
   "cell_type": "markdown",
   "id": "258fbe92-4d7f-4211-87bb-f3e00dd099c3",
   "metadata": {},
   "source": [
    "I'll drop the latitude and longitude E7 from this merged data frame. I can come back to them in the df_locations data frame if I need the full data for some reason. "
   ]
  },
  {
   "cell_type": "code",
   "execution_count": 30,
   "id": "a8322f32-dc01-4b99-8af2-9986ff295412",
   "metadata": {},
   "outputs": [],
   "source": [
    "df_locations_merged.drop(columns=['latitudeE7','longitudeE7'],inplace=True)"
   ]
  },
  {
   "cell_type": "markdown",
   "id": "19b8a05b-9849-43ea-ae97-f61076e21c05",
   "metadata": {},
   "source": [
    "## Basic Checking"
   ]
  },
  {
   "cell_type": "markdown",
   "id": "73c0ebf9-6db3-454c-b6ee-980a22b268f0",
   "metadata": {},
   "source": [
    "I want to do a few checks to see if my data makes some sense. I'll start with just a sample of a few data points to see if the merge did what I think it should have done."
   ]
  },
  {
   "cell_type": "code",
   "execution_count": 31,
   "id": "62ced57a-e454-4978-af1e-2b3fd9ab0209",
   "metadata": {},
   "outputs": [
    {
     "data": {
      "text/html": [
       "<div>\n",
       "<style scoped>\n",
       "    .dataframe tbody tr th:only-of-type {\n",
       "        vertical-align: middle;\n",
       "    }\n",
       "\n",
       "    .dataframe tbody tr th {\n",
       "        vertical-align: top;\n",
       "    }\n",
       "\n",
       "    .dataframe thead th {\n",
       "        text-align: right;\n",
       "    }\n",
       "</style>\n",
       "<table border=\"1\" class=\"dataframe\">\n",
       "  <thead>\n",
       "    <tr style=\"text-align: right;\">\n",
       "      <th></th>\n",
       "      <th>date</th>\n",
       "      <th>hour</th>\n",
       "      <th>latitude</th>\n",
       "      <th>longitude</th>\n",
       "      <th>count</th>\n",
       "      <th>city</th>\n",
       "      <th>county</th>\n",
       "      <th>state</th>\n",
       "      <th>country</th>\n",
       "    </tr>\n",
       "  </thead>\n",
       "  <tbody>\n",
       "    <tr>\n",
       "      <th>22688</th>\n",
       "      <td>2016-11-01</td>\n",
       "      <td>2</td>\n",
       "      <td>30.3</td>\n",
       "      <td>-91.0</td>\n",
       "      <td>44</td>\n",
       "      <td></td>\n",
       "      <td>Ascension Parish</td>\n",
       "      <td>Louisiana</td>\n",
       "      <td>United States</td>\n",
       "    </tr>\n",
       "    <tr>\n",
       "      <th>20470</th>\n",
       "      <td>2016-07-30</td>\n",
       "      <td>5</td>\n",
       "      <td>30.4</td>\n",
       "      <td>-91.2</td>\n",
       "      <td>14139</td>\n",
       "      <td>Baton Rouge</td>\n",
       "      <td>East Baton Rouge Parish</td>\n",
       "      <td>Louisiana</td>\n",
       "      <td>United States</td>\n",
       "    </tr>\n",
       "    <tr>\n",
       "      <th>50030</th>\n",
       "      <td>2020-01-17</td>\n",
       "      <td>9</td>\n",
       "      <td>37.1</td>\n",
       "      <td>-76.5</td>\n",
       "      <td>18678</td>\n",
       "      <td></td>\n",
       "      <td>Newport News</td>\n",
       "      <td>Virginia</td>\n",
       "      <td>United States</td>\n",
       "    </tr>\n",
       "    <tr>\n",
       "      <th>10824</th>\n",
       "      <td>2015-06-15</td>\n",
       "      <td>16</td>\n",
       "      <td>30.5</td>\n",
       "      <td>-90.8</td>\n",
       "      <td>219</td>\n",
       "      <td></td>\n",
       "      <td>Livingston Parish</td>\n",
       "      <td>Louisiana</td>\n",
       "      <td>United States</td>\n",
       "    </tr>\n",
       "    <tr>\n",
       "      <th>77674</th>\n",
       "      <td>2023-05-30</td>\n",
       "      <td>21</td>\n",
       "      <td>33.1</td>\n",
       "      <td>-97.1</td>\n",
       "      <td>5328</td>\n",
       "      <td></td>\n",
       "      <td>Denton County</td>\n",
       "      <td>Texas</td>\n",
       "      <td>United States</td>\n",
       "    </tr>\n",
       "  </tbody>\n",
       "</table>\n",
       "</div>"
      ],
      "text/plain": [
       "             date  hour  latitude  longitude  count         city  \\\n",
       "22688  2016-11-01     2      30.3      -91.0     44                \n",
       "20470  2016-07-30     5      30.4      -91.2  14139  Baton Rouge   \n",
       "50030  2020-01-17     9      37.1      -76.5  18678                \n",
       "10824  2015-06-15    16      30.5      -90.8    219                \n",
       "77674  2023-05-30    21      33.1      -97.1   5328                \n",
       "\n",
       "                        county      state        country  \n",
       "22688         Ascension Parish  Louisiana  United States  \n",
       "20470  East Baton Rouge Parish  Louisiana  United States  \n",
       "50030             Newport News   Virginia  United States  \n",
       "10824        Livingston Parish  Louisiana  United States  \n",
       "77674            Denton County      Texas  United States  "
      ]
     },
     "execution_count": 31,
     "metadata": {},
     "output_type": "execute_result"
    }
   ],
   "source": [
    "df_locations_merged.sample(5)"
   ]
  },
  {
   "cell_type": "markdown",
   "id": "6ae13a50-848d-49f9-aa83-620b116827e1",
   "metadata": {},
   "source": [
    "Yes! These are really places that I've been and the dates seem to make sense. I know that I visited collaborators in Hannover in August 2015, I stopped in London on the way to a meeting in Cardiff in September 2022, I was living in Fullerton in 2019, and visited my family in Denton county all the time until I moved to Denton in 2023."
   ]
  },
  {
   "cell_type": "code",
   "execution_count": 32,
   "id": "9ef11802-c52e-45be-9b89-50def7748594",
   "metadata": {},
   "outputs": [],
   "source": [
    "# Realized I needed to fix the datetime values again because something didn't work and I got an error\n",
    "df_locations_merged['date'] = pd.to_datetime(df_locations_merged['date'], errors='coerce')"
   ]
  },
  {
   "cell_type": "code",
   "execution_count": 33,
   "id": "f07429d6-866b-4776-98be-01c7cb3471ab",
   "metadata": {},
   "outputs": [],
   "source": [
    "#df_locations_merged[df_locations_merged['date'].dt.year<2015]"
   ]
  },
  {
   "cell_type": "markdown",
   "id": "9520bb2c-a14d-4b9d-9061-6ecb28f7b9ba",
   "metadata": {},
   "source": [
    "What countries are listed?"
   ]
  },
  {
   "cell_type": "code",
   "execution_count": 34,
   "id": "5c0aa9f1-a519-4a47-9bfa-e8b80960c05e",
   "metadata": {},
   "outputs": [
    {
     "data": {
      "text/plain": [
       "array(['United States', '中国', 'Deutschland', 'United Kingdom',\n",
       "       'Magyarország', 'Nederland', 'Schweiz/Suisse/Svizzera/Svizra',\n",
       "       'France', 'Sverige', 'Suomi / Finland', 'Danmark', None,\n",
       "       'België / Belgique / Belgien'], dtype=object)"
      ]
     },
     "execution_count": 34,
     "metadata": {},
     "output_type": "execute_result"
    }
   ],
   "source": [
    "df_locations_merged['country'].unique()"
   ]
  },
  {
   "cell_type": "markdown",
   "id": "4fd8ef8e-27a6-40f1-8b72-844cf44c9519",
   "metadata": {},
   "source": [
    "Most of this checks out! I thought Finland was wrong at first but actually I think I did have an airport stop there (unintentionally - I had gotten stuck in Sweden overnight on my way to a meeting in Germany because of a cancelled flight, and then I think the next day rerouted through Finland.)\n",
    "But Denmark? Maybe another airport stop? I need to check that one.\n",
    "And the \"None\" value from earlier. Let me check when that was, now that I have the dates combined with it."
   ]
  },
  {
   "cell_type": "code",
   "execution_count": 35,
   "id": "43f3e6c9-2113-489a-b4aa-2e94ca5d5a4c",
   "metadata": {},
   "outputs": [
    {
     "data": {
      "text/html": [
       "<div>\n",
       "<style scoped>\n",
       "    .dataframe tbody tr th:only-of-type {\n",
       "        vertical-align: middle;\n",
       "    }\n",
       "\n",
       "    .dataframe tbody tr th {\n",
       "        vertical-align: top;\n",
       "    }\n",
       "\n",
       "    .dataframe thead th {\n",
       "        text-align: right;\n",
       "    }\n",
       "</style>\n",
       "<table border=\"1\" class=\"dataframe\">\n",
       "  <thead>\n",
       "    <tr style=\"text-align: right;\">\n",
       "      <th></th>\n",
       "      <th>date</th>\n",
       "      <th>hour</th>\n",
       "      <th>latitude</th>\n",
       "      <th>longitude</th>\n",
       "      <th>count</th>\n",
       "      <th>city</th>\n",
       "      <th>county</th>\n",
       "      <th>state</th>\n",
       "      <th>country</th>\n",
       "    </tr>\n",
       "  </thead>\n",
       "  <tbody>\n",
       "    <tr>\n",
       "      <th>36802</th>\n",
       "      <td>2018-06-23</td>\n",
       "      <td>17</td>\n",
       "      <td>66.7</td>\n",
       "      <td>-28.3</td>\n",
       "      <td>1</td>\n",
       "      <td>None</td>\n",
       "      <td>None</td>\n",
       "      <td>None</td>\n",
       "      <td>None</td>\n",
       "    </tr>\n",
       "  </tbody>\n",
       "</table>\n",
       "</div>"
      ],
      "text/plain": [
       "            date  hour  latitude  longitude  count  city county state country\n",
       "36802 2018-06-23    17      66.7      -28.3      1  None   None  None    None"
      ]
     },
     "execution_count": 35,
     "metadata": {},
     "output_type": "execute_result"
    }
   ],
   "source": [
    "df_locations_merged[df_locations_merged.isnull().any(axis=1)]\n"
   ]
  },
  {
   "cell_type": "markdown",
   "id": "7bbac7e5-45a0-4c8b-80b4-504fda69d7e3",
   "metadata": {},
   "source": [
    "Hmmm June 2023. That was when I flew to Germany so maybe this was on the way?"
   ]
  },
  {
   "cell_type": "code",
   "execution_count": 36,
   "id": "b5917adc-bfc8-4ec3-bcfc-0f49e23e1ffd",
   "metadata": {},
   "outputs": [
    {
     "data": {
      "text/html": [
       "<div>\n",
       "<style scoped>\n",
       "    .dataframe tbody tr th:only-of-type {\n",
       "        vertical-align: middle;\n",
       "    }\n",
       "\n",
       "    .dataframe tbody tr th {\n",
       "        vertical-align: top;\n",
       "    }\n",
       "\n",
       "    .dataframe thead th {\n",
       "        text-align: right;\n",
       "    }\n",
       "</style>\n",
       "<table border=\"1\" class=\"dataframe\">\n",
       "  <thead>\n",
       "    <tr style=\"text-align: right;\">\n",
       "      <th></th>\n",
       "      <th>date</th>\n",
       "      <th>hour</th>\n",
       "      <th>latitude</th>\n",
       "      <th>longitude</th>\n",
       "      <th>count</th>\n",
       "      <th>city</th>\n",
       "      <th>county</th>\n",
       "      <th>state</th>\n",
       "      <th>country</th>\n",
       "    </tr>\n",
       "  </thead>\n",
       "  <tbody>\n",
       "    <tr>\n",
       "      <th>36787</th>\n",
       "      <td>2018-06-23</td>\n",
       "      <td>0</td>\n",
       "      <td>52.5</td>\n",
       "      <td>13.3</td>\n",
       "      <td>16</td>\n",
       "      <td>Berlin</td>\n",
       "      <td></td>\n",
       "      <td></td>\n",
       "      <td>Deutschland</td>\n",
       "    </tr>\n",
       "    <tr>\n",
       "      <th>36788</th>\n",
       "      <td>2018-06-23</td>\n",
       "      <td>1</td>\n",
       "      <td>52.5</td>\n",
       "      <td>13.3</td>\n",
       "      <td>16</td>\n",
       "      <td>Berlin</td>\n",
       "      <td></td>\n",
       "      <td></td>\n",
       "      <td>Deutschland</td>\n",
       "    </tr>\n",
       "    <tr>\n",
       "      <th>36789</th>\n",
       "      <td>2018-06-23</td>\n",
       "      <td>2</td>\n",
       "      <td>52.5</td>\n",
       "      <td>13.3</td>\n",
       "      <td>16</td>\n",
       "      <td>Berlin</td>\n",
       "      <td></td>\n",
       "      <td></td>\n",
       "      <td>Deutschland</td>\n",
       "    </tr>\n",
       "    <tr>\n",
       "      <th>36790</th>\n",
       "      <td>2018-06-23</td>\n",
       "      <td>3</td>\n",
       "      <td>52.5</td>\n",
       "      <td>13.3</td>\n",
       "      <td>16</td>\n",
       "      <td>Berlin</td>\n",
       "      <td></td>\n",
       "      <td></td>\n",
       "      <td>Deutschland</td>\n",
       "    </tr>\n",
       "    <tr>\n",
       "      <th>36791</th>\n",
       "      <td>2018-06-23</td>\n",
       "      <td>4</td>\n",
       "      <td>52.5</td>\n",
       "      <td>13.3</td>\n",
       "      <td>16</td>\n",
       "      <td>Berlin</td>\n",
       "      <td></td>\n",
       "      <td></td>\n",
       "      <td>Deutschland</td>\n",
       "    </tr>\n",
       "    <tr>\n",
       "      <th>36792</th>\n",
       "      <td>2018-06-23</td>\n",
       "      <td>5</td>\n",
       "      <td>52.5</td>\n",
       "      <td>13.4</td>\n",
       "      <td>3</td>\n",
       "      <td>Berlin</td>\n",
       "      <td></td>\n",
       "      <td></td>\n",
       "      <td>Deutschland</td>\n",
       "    </tr>\n",
       "    <tr>\n",
       "      <th>36793</th>\n",
       "      <td>2018-06-23</td>\n",
       "      <td>6</td>\n",
       "      <td>52.5</td>\n",
       "      <td>13.4</td>\n",
       "      <td>3</td>\n",
       "      <td>Berlin</td>\n",
       "      <td></td>\n",
       "      <td></td>\n",
       "      <td>Deutschland</td>\n",
       "    </tr>\n",
       "    <tr>\n",
       "      <th>36794</th>\n",
       "      <td>2018-06-23</td>\n",
       "      <td>7</td>\n",
       "      <td>52.5</td>\n",
       "      <td>13.4</td>\n",
       "      <td>3</td>\n",
       "      <td>Berlin</td>\n",
       "      <td></td>\n",
       "      <td></td>\n",
       "      <td>Deutschland</td>\n",
       "    </tr>\n",
       "    <tr>\n",
       "      <th>36795</th>\n",
       "      <td>2018-06-23</td>\n",
       "      <td>8</td>\n",
       "      <td>52.5</td>\n",
       "      <td>13.3</td>\n",
       "      <td>16</td>\n",
       "      <td>Berlin</td>\n",
       "      <td></td>\n",
       "      <td></td>\n",
       "      <td>Deutschland</td>\n",
       "    </tr>\n",
       "    <tr>\n",
       "      <th>36796</th>\n",
       "      <td>2018-06-23</td>\n",
       "      <td>9</td>\n",
       "      <td>52.6</td>\n",
       "      <td>13.3</td>\n",
       "      <td>3</td>\n",
       "      <td>Berlin</td>\n",
       "      <td></td>\n",
       "      <td></td>\n",
       "      <td>Deutschland</td>\n",
       "    </tr>\n",
       "    <tr>\n",
       "      <th>36797</th>\n",
       "      <td>2018-06-23</td>\n",
       "      <td>10</td>\n",
       "      <td>52.6</td>\n",
       "      <td>13.3</td>\n",
       "      <td>3</td>\n",
       "      <td>Berlin</td>\n",
       "      <td></td>\n",
       "      <td></td>\n",
       "      <td>Deutschland</td>\n",
       "    </tr>\n",
       "    <tr>\n",
       "      <th>36798</th>\n",
       "      <td>2018-06-23</td>\n",
       "      <td>11</td>\n",
       "      <td>52.6</td>\n",
       "      <td>13.3</td>\n",
       "      <td>3</td>\n",
       "      <td>Berlin</td>\n",
       "      <td></td>\n",
       "      <td></td>\n",
       "      <td>Deutschland</td>\n",
       "    </tr>\n",
       "    <tr>\n",
       "      <th>36799</th>\n",
       "      <td>2018-06-23</td>\n",
       "      <td>12</td>\n",
       "      <td>55.4</td>\n",
       "      <td>12.6</td>\n",
       "      <td>1</td>\n",
       "      <td></td>\n",
       "      <td></td>\n",
       "      <td>Region Hovedstaden</td>\n",
       "      <td>Danmark</td>\n",
       "    </tr>\n",
       "    <tr>\n",
       "      <th>36800</th>\n",
       "      <td>2018-06-23</td>\n",
       "      <td>13</td>\n",
       "      <td>55.6</td>\n",
       "      <td>12.7</td>\n",
       "      <td>1</td>\n",
       "      <td></td>\n",
       "      <td></td>\n",
       "      <td>Region Hovedstaden</td>\n",
       "      <td>Danmark</td>\n",
       "    </tr>\n",
       "    <tr>\n",
       "      <th>36801</th>\n",
       "      <td>2018-06-23</td>\n",
       "      <td>14</td>\n",
       "      <td>55.8</td>\n",
       "      <td>12.1</td>\n",
       "      <td>1</td>\n",
       "      <td></td>\n",
       "      <td></td>\n",
       "      <td>Region Hovedstaden</td>\n",
       "      <td>Danmark</td>\n",
       "    </tr>\n",
       "    <tr>\n",
       "      <th>36802</th>\n",
       "      <td>2018-06-23</td>\n",
       "      <td>17</td>\n",
       "      <td>66.7</td>\n",
       "      <td>-28.3</td>\n",
       "      <td>1</td>\n",
       "      <td>None</td>\n",
       "      <td>None</td>\n",
       "      <td>None</td>\n",
       "      <td>None</td>\n",
       "    </tr>\n",
       "    <tr>\n",
       "      <th>36803</th>\n",
       "      <td>2018-06-23</td>\n",
       "      <td>23</td>\n",
       "      <td>42.0</td>\n",
       "      <td>-87.9</td>\n",
       "      <td>34</td>\n",
       "      <td>Chicago</td>\n",
       "      <td>Cook County</td>\n",
       "      <td>Illinois</td>\n",
       "      <td>United States</td>\n",
       "    </tr>\n",
       "  </tbody>\n",
       "</table>\n",
       "</div>"
      ],
      "text/plain": [
       "            date  hour  latitude  longitude  count     city       county  \\\n",
       "36787 2018-06-23     0      52.5       13.3     16   Berlin                \n",
       "36788 2018-06-23     1      52.5       13.3     16   Berlin                \n",
       "36789 2018-06-23     2      52.5       13.3     16   Berlin                \n",
       "36790 2018-06-23     3      52.5       13.3     16   Berlin                \n",
       "36791 2018-06-23     4      52.5       13.3     16   Berlin                \n",
       "36792 2018-06-23     5      52.5       13.4      3   Berlin                \n",
       "36793 2018-06-23     6      52.5       13.4      3   Berlin                \n",
       "36794 2018-06-23     7      52.5       13.4      3   Berlin                \n",
       "36795 2018-06-23     8      52.5       13.3     16   Berlin                \n",
       "36796 2018-06-23     9      52.6       13.3      3   Berlin                \n",
       "36797 2018-06-23    10      52.6       13.3      3   Berlin                \n",
       "36798 2018-06-23    11      52.6       13.3      3   Berlin                \n",
       "36799 2018-06-23    12      55.4       12.6      1                         \n",
       "36800 2018-06-23    13      55.6       12.7      1                         \n",
       "36801 2018-06-23    14      55.8       12.1      1                         \n",
       "36802 2018-06-23    17      66.7      -28.3      1     None         None   \n",
       "36803 2018-06-23    23      42.0      -87.9     34  Chicago  Cook County   \n",
       "\n",
       "                    state        country  \n",
       "36787                        Deutschland  \n",
       "36788                        Deutschland  \n",
       "36789                        Deutschland  \n",
       "36790                        Deutschland  \n",
       "36791                        Deutschland  \n",
       "36792                        Deutschland  \n",
       "36793                        Deutschland  \n",
       "36794                        Deutschland  \n",
       "36795                        Deutschland  \n",
       "36796                        Deutschland  \n",
       "36797                        Deutschland  \n",
       "36798                        Deutschland  \n",
       "36799  Region Hovedstaden        Danmark  \n",
       "36800  Region Hovedstaden        Danmark  \n",
       "36801  Region Hovedstaden        Danmark  \n",
       "36802                None           None  \n",
       "36803            Illinois  United States  "
      ]
     },
     "execution_count": 36,
     "metadata": {},
     "output_type": "execute_result"
    }
   ],
   "source": [
    "df_locations_merged[df_locations_merged['date']==pd.to_datetime('2018-06-23')]"
   ]
  },
  {
   "cell_type": "markdown",
   "id": "5a48933b-969e-489f-87b2-311a1026fbbb",
   "metadata": {},
   "source": [
    "Okay that actually makes sense! That would be potentially en route from Denmark to Chicago. I'm going to remove the point for now anyway but it's good to know that it is not complete nonsense.\n",
    "\n",
    "And there's the Denmark points! I did a quick search in my email for \"Denmark\" and found that I did in fact fly through Copenhagen on that day. Solving all the mysteries!\n",
    "\n",
    "This data snippet also brings up another thing to be aware of though. I don't remember flying into Chicago at almost midnight, so I am realizing now that the time zone for this might be UTC time. I think that's fine but just something I need to remember if I want to do anything precise with the times."
   ]
  },
  {
   "cell_type": "code",
   "execution_count": 37,
   "id": "139d898c-7a36-4378-b096-cd74671b1f83",
   "metadata": {},
   "outputs": [],
   "source": [
    "df_locations_merged.dropna(inplace=True)"
   ]
  },
  {
   "cell_type": "markdown",
   "id": "8c9b7f07-3724-4551-b6f4-996ba8c97e6a",
   "metadata": {},
   "source": [
    "## Combine Some Entries"
   ]
  },
  {
   "cell_type": "markdown",
   "id": "38bb9f03-20f6-4293-af65-78063706028e",
   "metadata": {},
   "source": [
    "I care less about precise latitude and longitude (and I've already rounded them anyway) than about the location names, so I want to focus on those from now on. Also, I don't need multiple entries a day for the same place, so I'll group by date and location"
   ]
  },
  {
   "cell_type": "code",
   "execution_count": 38,
   "id": "38349993-2653-45ba-aa62-ded9d24af0d5",
   "metadata": {},
   "outputs": [],
   "source": [
    "df_simple = df_locations_merged.groupby(['date', 'city','county','state','country'])['hour'].mean().reset_index()"
   ]
  },
  {
   "cell_type": "code",
   "execution_count": 39,
   "id": "02bcb24f-555c-4610-92e5-6e6847d976f3",
   "metadata": {},
   "outputs": [
    {
     "data": {
      "text/html": [
       "<div>\n",
       "<style scoped>\n",
       "    .dataframe tbody tr th:only-of-type {\n",
       "        vertical-align: middle;\n",
       "    }\n",
       "\n",
       "    .dataframe tbody tr th {\n",
       "        vertical-align: top;\n",
       "    }\n",
       "\n",
       "    .dataframe thead th {\n",
       "        text-align: right;\n",
       "    }\n",
       "</style>\n",
       "<table border=\"1\" class=\"dataframe\">\n",
       "  <thead>\n",
       "    <tr style=\"text-align: right;\">\n",
       "      <th></th>\n",
       "      <th>date</th>\n",
       "      <th>city</th>\n",
       "      <th>county</th>\n",
       "      <th>state</th>\n",
       "      <th>country</th>\n",
       "      <th>hour</th>\n",
       "    </tr>\n",
       "  </thead>\n",
       "  <tbody>\n",
       "    <tr>\n",
       "      <th>0</th>\n",
       "      <td>2014-03-03</td>\n",
       "      <td>Baton Rouge</td>\n",
       "      <td>East Baton Rouge Parish</td>\n",
       "      <td>Louisiana</td>\n",
       "      <td>United States</td>\n",
       "      <td>19.000000</td>\n",
       "    </tr>\n",
       "    <tr>\n",
       "      <th>1</th>\n",
       "      <td>2014-03-04</td>\n",
       "      <td>Baton Rouge</td>\n",
       "      <td>East Baton Rouge Parish</td>\n",
       "      <td>Louisiana</td>\n",
       "      <td>United States</td>\n",
       "      <td>12.409091</td>\n",
       "    </tr>\n",
       "    <tr>\n",
       "      <th>2</th>\n",
       "      <td>2014-03-05</td>\n",
       "      <td>Baton Rouge</td>\n",
       "      <td>East Baton Rouge Parish</td>\n",
       "      <td>Louisiana</td>\n",
       "      <td>United States</td>\n",
       "      <td>7.500000</td>\n",
       "    </tr>\n",
       "    <tr>\n",
       "      <th>3</th>\n",
       "      <td>2014-03-06</td>\n",
       "      <td></td>\n",
       "      <td>Livingston Parish</td>\n",
       "      <td>Louisiana</td>\n",
       "      <td>United States</td>\n",
       "      <td>19.000000</td>\n",
       "    </tr>\n",
       "    <tr>\n",
       "      <th>4</th>\n",
       "      <td>2014-03-06</td>\n",
       "      <td>Baton Rouge</td>\n",
       "      <td>East Baton Rouge Parish</td>\n",
       "      <td>Louisiana</td>\n",
       "      <td>United States</td>\n",
       "      <td>9.375000</td>\n",
       "    </tr>\n",
       "  </tbody>\n",
       "</table>\n",
       "</div>"
      ],
      "text/plain": [
       "        date         city                   county      state        country  \\\n",
       "0 2014-03-03  Baton Rouge  East Baton Rouge Parish  Louisiana  United States   \n",
       "1 2014-03-04  Baton Rouge  East Baton Rouge Parish  Louisiana  United States   \n",
       "2 2014-03-05  Baton Rouge  East Baton Rouge Parish  Louisiana  United States   \n",
       "3 2014-03-06                     Livingston Parish  Louisiana  United States   \n",
       "4 2014-03-06  Baton Rouge  East Baton Rouge Parish  Louisiana  United States   \n",
       "\n",
       "        hour  \n",
       "0  19.000000  \n",
       "1  12.409091  \n",
       "2   7.500000  \n",
       "3  19.000000  \n",
       "4   9.375000  "
      ]
     },
     "execution_count": 39,
     "metadata": {},
     "output_type": "execute_result"
    }
   ],
   "source": [
    "df_simple.head()"
   ]
  },
  {
   "cell_type": "code",
   "execution_count": 40,
   "id": "7bc3464c-832c-430c-a7f4-67ddd13a3110",
   "metadata": {},
   "outputs": [
    {
     "data": {
      "text/plain": [
       "(7063, 6)"
      ]
     },
     "execution_count": 40,
     "metadata": {},
     "output_type": "execute_result"
    }
   ],
   "source": [
    "df_simple.shape"
   ]
  },
  {
   "cell_type": "markdown",
   "id": "328a6a9a-ec0e-46d7-91f3-bd6658ea45a6",
   "metadata": {},
   "source": [
    "Okay! My simplified data frame is much reduced in size, just has one entry per day if I stayed in the same city all day, but does have multiple entries if my location changed. I'm not sure if the average hour of the entries is at all important. I'll leave it for now but probably not do anything with it."
   ]
  },
  {
   "cell_type": "markdown",
   "id": "72a67dcb-6ae6-4629-9aad-efad241d3174",
   "metadata": {},
   "source": [
    "## Focus on 2019-2023\n",
    "I was a physics professor in Virginia from Fall 2019 to Summer 2023. It was an incredible chapter of my life in so many ways, but also very challenging, especially because of the pandemic. While work was online in the first five months of the pandemic, I stayed in Texas with my family. I made some amazing friends in Virginia, but I was also flying back to Texas as often as possible. Eventually, I realized I just needed to relocate to Texas, hence why I am here now looking for a new job! \n",
    "\n",
    "I'm interested in the data from that chapter of my life. I felt like I was constantly on the road, either for work or family, and as much as I loved Virginia it was difficult to grow roots there. I predict that my location data will help me see tangibly just how often I was traveling."
   ]
  },
  {
   "cell_type": "code",
   "execution_count": 41,
   "id": "1c09c366-809d-49e4-85b8-26d1bac86ca8",
   "metadata": {},
   "outputs": [],
   "source": [
    "# Create a data frame just from the time I lived in Virginia\n",
    "va_df = df_simple[(df_simple['date']>pd.to_datetime('2019-08-05')) & (df_simple['date']<pd.to_datetime('2023-06-18'))]"
   ]
  },
  {
   "cell_type": "code",
   "execution_count": 42,
   "id": "349c04cd-c20e-4b74-9c13-fb13a298f727",
   "metadata": {},
   "outputs": [],
   "source": [
    "# And then group that data frame by date, with a list of locations for that day\n",
    "va_df=va_df.groupby('date').aggregate(cities=('city',lambda x:list(set(x))),\n",
    "                                      counties=('county',lambda x:list(set(x))),\n",
    "                                      states=('state',lambda x:list(set(x))),\n",
    "                                      countries=('country',lambda x:list(set(x)))\n",
    "                                     ).reset_index()"
   ]
  },
  {
   "cell_type": "markdown",
   "id": "4b146ba2-bc1c-4918-92f2-f3ec130e698f",
   "metadata": {},
   "source": [
    "Check the top few levels of the value counts for states:"
   ]
  },
  {
   "cell_type": "code",
   "execution_count": 43,
   "id": "2a58c389-7a80-41c0-8d85-ed8f0a4f7ba7",
   "metadata": {},
   "outputs": [
    {
     "data": {
      "text/plain": [
       "states\n",
       "[Virginia]                           805\n",
       "[Texas]                              464\n",
       "[Texas, Virginia]                     19\n",
       "[Washington]                          13\n",
       "[North Carolina, Virginia]            13\n",
       "[Illinois]                            11\n",
       "[Louisiana]                            9\n",
       "[California]                           7\n",
       "[North Carolina, Texas, Virginia]      6\n",
       "[Oklahoma, Texas]                      4\n",
       "Name: count, dtype: int64"
      ]
     },
     "execution_count": 43,
     "metadata": {},
     "output_type": "execute_result"
    }
   ],
   "source": [
    "va_df['states'].value_counts().head(10)"
   ]
  },
  {
   "cell_type": "markdown",
   "id": "f6c8870f-5a46-4183-93d4-91e45e16b260",
   "metadata": {},
   "source": [
    "Wow! Even just there, I can see that I was in Texas for over half the number of days that I was in Virginia. A lot of that was that first part of the pandemic when I stayed for extra extended amounts of time, but there was also just a lot of back and forth. But a visualization would be cooler. So let's rework this data frame to just focus on how much I was in Virginia, Texas, or multiple/other states."
   ]
  },
  {
   "cell_type": "code",
   "execution_count": 44,
   "id": "2356a8cd-590f-422c-8fc1-8a616908d9ea",
   "metadata": {},
   "outputs": [],
   "source": [
    "va_df.loc[(va_df['states'].str.len()>1),'states']='Multiple/Other' # or could label as \"Multiple\"\n",
    "va_df.loc[(va_df['states'].str.len()==1),'states'] = [''.join(map(str,l)) \n",
    "                                                     for l in va_df.loc[(va_df['states'].str.len()==1),'states']]\n",
    "va_df.loc[~va_df['states'].isin(['Virginia','Texas','Multiple/Other']),'states']='Multiple/Other'"
   ]
  },
  {
   "cell_type": "code",
   "execution_count": 45,
   "id": "5a2fa2cf-507d-48ac-aa72-49059cb34a1b",
   "metadata": {},
   "outputs": [],
   "source": [
    "state_counts = va_df['states'].value_counts().reset_index()"
   ]
  },
  {
   "cell_type": "code",
   "execution_count": 46,
   "id": "b204fe2b-5be4-4321-93de-7eba9f7ce988",
   "metadata": {},
   "outputs": [
    {
     "data": {
      "text/plain": [
       "Text(0.5, 0, '')"
      ]
     },
     "execution_count": 46,
     "metadata": {},
     "output_type": "execute_result"
    },
    {
     "data": {
      "image/png": "[encoded data removed]",
      "text/plain": [
       "<Figure size 640x480 with 1 Axes>"
      ]
     },
     "metadata": {},
     "output_type": "display_data"
    }
   ],
   "source": [
    "state_counts.plot(kind='bar',x='states',y='count',legend=False)\n",
    "plt.ylabel('Number of Days', fontsize=14)\n",
    "plt.xlabel('')"
   ]
  },
  {
   "cell_type": "markdown",
   "id": "bff8822d-9004-4a16-bdd0-370ca03cf525",
   "metadata": {},
   "source": [
    "I like the way those three stair step bars look! And this is helpful to see that not only was there a large amount of time in Texas, there's also a significant amount of time where I was either traveling to other states or in transit between Virginia and Texas. No wonder I was exhausted all the time!"
   ]
  },
  {
   "cell_type": "markdown",
   "id": "717f982e-f8eb-4905-a027-e8ca07c799be",
   "metadata": {},
   "source": [
    "Number of days is harder to conceptualize here though so let me add a months column, estimating 30.5 days as a month."
   ]
  },
  {
   "cell_type": "code",
   "execution_count": 47,
   "id": "91693146-ff75-4960-b3f3-f3d6d5015318",
   "metadata": {},
   "outputs": [],
   "source": [
    "state_counts['months']=state_counts['count']/30.5"
   ]
  },
  {
   "cell_type": "code",
   "execution_count": 48,
   "id": "495db7ee-e94e-4e56-9065-3017aec7d749",
   "metadata": {},
   "outputs": [
    {
     "data": {
      "text/plain": [
       "Text(0.5, 0, '')"
      ]
     },
     "execution_count": 48,
     "metadata": {},
     "output_type": "execute_result"
    },
    {
     "data": {
      "image/png": "[encoded data removed]",
      "text/plain": [
       "<Figure size 640x480 with 1 Axes>"
      ]
     },
     "metadata": {},
     "output_type": "display_data"
    }
   ],
   "source": [
    "state_counts.plot(kind='bar',legend=False,x='states', y='months')\n",
    "plt.ylabel('Months', fontsize=14)\n",
    "plt.xlabel('')"
   ]
  },
  {
   "cell_type": "markdown",
   "id": "f5a044ab-8879-40d3-b9b2-e431cc81527b",
   "metadata": {},
   "source": [
    "Or a pie chart if you prefer!"
   ]
  },
  {
   "cell_type": "code",
   "execution_count": 49,
   "id": "2b93b045-5434-4cfe-bd20-f7e3f8a41975",
   "metadata": {},
   "outputs": [
    {
     "data": {
      "text/plain": [
       "Text(0, 0.5, '')"
      ]
     },
     "execution_count": 49,
     "metadata": {},
     "output_type": "execute_result"
    },
    {
     "data": {
      "image/png": "[encoded data removed]",
      "text/plain": [
       "<Figure size 640x480 with 1 Axes>"
      ]
     },
     "metadata": {},
     "output_type": "display_data"
    }
   ],
   "source": [
    "state_counts.plot(kind='pie',legend=False,labels=state_counts['states'], y='months')\n",
    "plt.xlabel('')\n",
    "plt.ylabel('')"
   ]
  },
  {
   "cell_type": "markdown",
   "id": "0625eebc-8521-4422-a5e8-046fb7c48045",
   "metadata": {},
   "source": [
    "## Estimated Distance per Day"
   ]
  },
  {
   "cell_type": "markdown",
   "id": "0c97735a-967d-4426-b318-80ac9303cdb2",
   "metadata": {},
   "source": [
    "As seen above, my life has involved a lot of traveling!\n",
    "I'm curious to see if I can very roughly estimate the total distance traveled per day. I'll do this by calculating the distance between each successive point in my hourly location data frame, then summing them to find the distance traveled in each day. Note there are some estimations here, since when I aggregated the data by hour, I just took the average latitude and longitude. "
   ]
  },
  {
   "cell_type": "code",
   "execution_count": 50,
   "id": "45c7cb8d-23ec-47d4-9ff5-6205d01410e6",
   "metadata": {},
   "outputs": [],
   "source": [
    "# I'm remaking the latitude and longitude columns without rounding for this, \n",
    "# although I don't think it actually matters that much\n",
    "df_locations['latitude']=df_locations['latitudeE7']/1E7\n",
    "df_locations['longitude']=df_locations['longitudeE7']/1E7"
   ]
  },
  {
   "cell_type": "code",
   "execution_count": 51,
   "id": "cc69e8bd-1375-4fb0-aad2-9bf2676b1391",
   "metadata": {},
   "outputs": [],
   "source": [
    "# Initialize distance column\n",
    "df_locations['distance']=None"
   ]
  },
  {
   "cell_type": "markdown",
   "id": "02970ab1-423f-403e-801f-766c2a14be00",
   "metadata": {},
   "source": [
    "This next cell is another one that takes a couple minutes for me, calculating the distances between each data point. "
   ]
  },
  {
   "cell_type": "code",
   "execution_count": 52,
   "id": "7195c254-4e33-496a-9460-20a453758b44",
   "metadata": {},
   "outputs": [],
   "source": [
    "for j in range(1,len(df_locations)):   \n",
    "    df_locations.loc[j,'distance'] = distance(df_locations.loc[j-1,['latitude','longitude']],\n",
    "                                            df_locations.loc[j,['latitude','longitude']])"
   ]
  },
  {
   "cell_type": "code",
   "execution_count": 53,
   "id": "163425b6-2c69-4c7c-9a43-b149e8117cc3",
   "metadata": {},
   "outputs": [],
   "source": [
    "df_distance=df_locations.groupby('date')['distance'].sum().reset_index()\n",
    "df_distance['miles']=[x.miles for x in df_distance['distance']]"
   ]
  },
  {
   "cell_type": "markdown",
   "id": "4f4c8722-8ab9-4c25-b378-6a20bb946eca",
   "metadata": {},
   "source": [
    "First a simple scatter plot to see what the data looks like."
   ]
  },
  {
   "cell_type": "code",
   "execution_count": 54,
   "id": "b9d0a290-204d-41e7-8888-17cd6d10bb1e",
   "metadata": {},
   "outputs": [
    {
     "data": {
      "text/plain": [
       "Text(0.5, 0, 'Date')"
      ]
     },
     "execution_count": 54,
     "metadata": {},
     "output_type": "execute_result"
    },
    {
     "data": {
      "image/png": "[encoded data removed]",
      "text/plain": [
       "<Figure size 640x480 with 1 Axes>"
      ]
     },
     "metadata": {},
     "output_type": "display_data"
    }
   ],
   "source": [
    "df_distance.plot(x='date',y='miles',kind='scatter')\n",
    "plt.ylabel('Miles', fontsize=14)\n",
    "plt.xlabel('Date', fontsize=14)"
   ]
  },
  {
   "cell_type": "markdown",
   "id": "60c69b29-fa34-42a6-8368-3b4a8f941596",
   "metadata": {},
   "source": [
    "It's obviously a quick and messy plot, but a few things already jump out at me:\n",
    "- There are several high outliers that I want to check\n",
    "- Beginning around mid-2017 through mid-2023 there are a lot more points around 1500-ish miles, present quite frequently except for a few month gap in 2020 (hello early pandemic). It just so happens that in 2017 I moved from Baton Rouge (which is a few hundred miles from Dallas) to Fullerton, CA (about 1200 miles west of Dallas). And in 2019 I moved to Newport News, VA (about 1200 miles east of Dallas). Because of my frequent trips to the Dallas area to visit my family, I'm not at all surprised that this cluster of distances shows up so clearly.\n",
    "- I think there are some interesting structures in the points lower down that are all clumped together, which change over the different eras of my life. But I need to make some other visualizations to really show this better."
   ]
  },
  {
   "cell_type": "markdown",
   "id": "bca84e2a-2231-456e-b710-cdbd92f054f2",
   "metadata": {},
   "source": [
    "Real quick I'll just zoom in so you can see more clearly the cluster of points around 1200 miles:"
   ]
  },
  {
   "cell_type": "code",
   "execution_count": 55,
   "id": "af6057d9-72ca-4059-9c86-b8c7cdda3060",
   "metadata": {},
   "outputs": [
    {
     "data": {
      "text/plain": [
       "(0.0, 2000.0)"
      ]
     },
     "execution_count": 55,
     "metadata": {},
     "output_type": "execute_result"
    },
    {
     "data": {
      "image/png": "[encoded data removed]",
      "text/plain": [
       "<Figure size 1000x600 with 1 Axes>"
      ]
     },
     "metadata": {},
     "output_type": "display_data"
    }
   ],
   "source": [
    "df_distance.plot(x='date',y='miles',kind='scatter',figsize=[10,6])\n",
    "plt.ylabel('Miles', fontsize=14)\n",
    "plt.xlabel('Date', fontsize=14)\n",
    "plt.ylim(0,2000)"
   ]
  },
  {
   "cell_type": "markdown",
   "id": "5b7574dc-3eff-4ea2-8bcc-74a7cb72fd36",
   "metadata": {},
   "source": [
    "And now that I've done that, I can also see a clear cluster of points at almost 500 miles up until mid 2017, showing my many drives from Baton Rouge to the Dallas area.\n",
    "\n",
    "I can also begin to see interesting changes in the dense clusters of points that represent my \"normal\" daily life when I'm not traveling. I can see those few months in 2020 when I barely moved outside my sister's house where we quarantined, except for short walks. I can see that even after that, up until early 2021 (perhaps around when I got the covid vaccine) there seems to be more lower distance days. This will probably be easier to see with other plots, but I think it's interesting that even this simple scatter plot can show that!\n",
    "\n",
    "But first let me see about those outliers. I'm curious!"
   ]
  },
  {
   "cell_type": "markdown",
   "id": "f1a22b2d-148d-4c3b-acb6-567c4eaedead",
   "metadata": {},
   "source": [
    "## Error Checking in Distance Data"
   ]
  },
  {
   "cell_type": "markdown",
   "id": "379c51bb-1a14-4c8c-bde0-a7c27a6471d3",
   "metadata": {},
   "source": [
    "First I'm goint to check Days when the distance was over 5000 miles."
   ]
  },
  {
   "cell_type": "code",
   "execution_count": 56,
   "id": "f8f1f4bb-c2db-40d2-ad72-108c075770ab",
   "metadata": {},
   "outputs": [
    {
     "data": {
      "text/html": [
       "<div>\n",
       "<style scoped>\n",
       "    .dataframe tbody tr th:only-of-type {\n",
       "        vertical-align: middle;\n",
       "    }\n",
       "\n",
       "    .dataframe tbody tr th {\n",
       "        vertical-align: top;\n",
       "    }\n",
       "\n",
       "    .dataframe thead th {\n",
       "        text-align: right;\n",
       "    }\n",
       "</style>\n",
       "<table border=\"1\" class=\"dataframe\">\n",
       "  <thead>\n",
       "    <tr style=\"text-align: right;\">\n",
       "      <th></th>\n",
       "      <th>date</th>\n",
       "      <th>distance</th>\n",
       "      <th>miles</th>\n",
       "    </tr>\n",
       "  </thead>\n",
       "  <tbody>\n",
       "    <tr>\n",
       "      <th>1340</th>\n",
       "      <td>2017-11-03</td>\n",
       "      <td>19021.446172274544 km</td>\n",
       "      <td>11819.378686</td>\n",
       "    </tr>\n",
       "    <tr>\n",
       "      <th>164</th>\n",
       "      <td>2014-08-15</td>\n",
       "      <td>13613.123377666525 km</td>\n",
       "      <td>8458.802703</td>\n",
       "    </tr>\n",
       "    <tr>\n",
       "      <th>155</th>\n",
       "      <td>2014-08-05</td>\n",
       "      <td>10081.237902966046 km</td>\n",
       "      <td>6264.190815</td>\n",
       "    </tr>\n",
       "    <tr>\n",
       "      <th>1272</th>\n",
       "      <td>2017-08-27</td>\n",
       "      <td>9818.381903093199 km</td>\n",
       "      <td>6100.859669</td>\n",
       "    </tr>\n",
       "    <tr>\n",
       "      <th>1278</th>\n",
       "      <td>2017-09-02</td>\n",
       "      <td>9813.113273577736 km</td>\n",
       "      <td>6097.585894</td>\n",
       "    </tr>\n",
       "    <tr>\n",
       "      <th>1566</th>\n",
       "      <td>2018-06-17</td>\n",
       "      <td>8886.611935600082 km</td>\n",
       "      <td>5521.884653</td>\n",
       "    </tr>\n",
       "    <tr>\n",
       "      <th>554</th>\n",
       "      <td>2015-09-09</td>\n",
       "      <td>8879.198038602133 km</td>\n",
       "      <td>5517.277871</td>\n",
       "    </tr>\n",
       "    <tr>\n",
       "      <th>532</th>\n",
       "      <td>2015-08-18</td>\n",
       "      <td>8360.80685086157 km</td>\n",
       "      <td>5195.164521</td>\n",
       "    </tr>\n",
       "    <tr>\n",
       "      <th>1643</th>\n",
       "      <td>2018-09-02</td>\n",
       "      <td>8089.728418336344 km</td>\n",
       "      <td>5026.724192</td>\n",
       "    </tr>\n",
       "  </tbody>\n",
       "</table>\n",
       "</div>"
      ],
      "text/plain": [
       "            date               distance         miles\n",
       "1340  2017-11-03  19021.446172274544 km  11819.378686\n",
       "164   2014-08-15  13613.123377666525 km   8458.802703\n",
       "155   2014-08-05  10081.237902966046 km   6264.190815\n",
       "1272  2017-08-27   9818.381903093199 km   6100.859669\n",
       "1278  2017-09-02   9813.113273577736 km   6097.585894\n",
       "1566  2018-06-17   8886.611935600082 km   5521.884653\n",
       "554   2015-09-09   8879.198038602133 km   5517.277871\n",
       "532   2015-08-18    8360.80685086157 km   5195.164521\n",
       "1643  2018-09-02   8089.728418336344 km   5026.724192"
      ]
     },
     "execution_count": 56,
     "metadata": {},
     "output_type": "execute_result"
    }
   ],
   "source": [
    "df_distance[df_distance['miles']>5000].sort_values(by='miles',ascending=False)"
   ]
  },
  {
   "cell_type": "markdown",
   "id": "b5577b73-e1f1-46e9-9151-4d4acde120af",
   "metadata": {},
   "source": [
    "Most of these dates make sense to me except the first one Here's what I think these are just based on the dates (without actually checking my flight receipts to check exact days and measuring the distances myself):\n",
    "- 1: I don't remember traveling anywhere in November 2017 so that seems wrong. I'll need to check that date.\n",
    "- 2 & 3: Trip to and from China on a visit to one of my best friends\n",
    "- 4 & 5: Conference travel to Switzerland\n",
    "- 6: Conference travel to Germany\n",
    "- 7 & 8: Trips to and from Europe for conference and meetings with collaborators\n",
    "- 9: Conference travel to the Netherlands\n",
    "\n",
    "So I'm only concerned about the first date in question. Let me see where I was on that day:"
   ]
  },
  {
   "cell_type": "code",
   "execution_count": 57,
   "id": "ce0773d5-83af-444d-9ae8-49bde507466d",
   "metadata": {},
   "outputs": [
    {
     "data": {
      "text/html": [
       "<div>\n",
       "<style scoped>\n",
       "    .dataframe tbody tr th:only-of-type {\n",
       "        vertical-align: middle;\n",
       "    }\n",
       "\n",
       "    .dataframe tbody tr th {\n",
       "        vertical-align: top;\n",
       "    }\n",
       "\n",
       "    .dataframe thead th {\n",
       "        text-align: right;\n",
       "    }\n",
       "</style>\n",
       "<table border=\"1\" class=\"dataframe\">\n",
       "  <thead>\n",
       "    <tr style=\"text-align: right;\">\n",
       "      <th></th>\n",
       "      <th>date</th>\n",
       "      <th>hour</th>\n",
       "      <th>latitude</th>\n",
       "      <th>longitude</th>\n",
       "      <th>count</th>\n",
       "      <th>city</th>\n",
       "      <th>county</th>\n",
       "      <th>state</th>\n",
       "      <th>country</th>\n",
       "    </tr>\n",
       "  </thead>\n",
       "  <tbody>\n",
       "    <tr>\n",
       "      <th>31337</th>\n",
       "      <td>2017-11-03</td>\n",
       "      <td>0</td>\n",
       "      <td>33.9</td>\n",
       "      <td>-117.9</td>\n",
       "      <td>13216</td>\n",
       "      <td>Fullerton</td>\n",
       "      <td>Orange County</td>\n",
       "      <td>California</td>\n",
       "      <td>United States</td>\n",
       "    </tr>\n",
       "    <tr>\n",
       "      <th>31338</th>\n",
       "      <td>2017-11-03</td>\n",
       "      <td>1</td>\n",
       "      <td>33.9</td>\n",
       "      <td>-117.9</td>\n",
       "      <td>13216</td>\n",
       "      <td>Fullerton</td>\n",
       "      <td>Orange County</td>\n",
       "      <td>California</td>\n",
       "      <td>United States</td>\n",
       "    </tr>\n",
       "    <tr>\n",
       "      <th>31339</th>\n",
       "      <td>2017-11-03</td>\n",
       "      <td>2</td>\n",
       "      <td>33.9</td>\n",
       "      <td>-117.9</td>\n",
       "      <td>13216</td>\n",
       "      <td>Fullerton</td>\n",
       "      <td>Orange County</td>\n",
       "      <td>California</td>\n",
       "      <td>United States</td>\n",
       "    </tr>\n",
       "    <tr>\n",
       "      <th>31340</th>\n",
       "      <td>2017-11-03</td>\n",
       "      <td>3</td>\n",
       "      <td>33.9</td>\n",
       "      <td>-117.9</td>\n",
       "      <td>13216</td>\n",
       "      <td>Fullerton</td>\n",
       "      <td>Orange County</td>\n",
       "      <td>California</td>\n",
       "      <td>United States</td>\n",
       "    </tr>\n",
       "    <tr>\n",
       "      <th>31341</th>\n",
       "      <td>2017-11-03</td>\n",
       "      <td>4</td>\n",
       "      <td>33.9</td>\n",
       "      <td>-117.9</td>\n",
       "      <td>13216</td>\n",
       "      <td>Fullerton</td>\n",
       "      <td>Orange County</td>\n",
       "      <td>California</td>\n",
       "      <td>United States</td>\n",
       "    </tr>\n",
       "    <tr>\n",
       "      <th>31342</th>\n",
       "      <td>2017-11-03</td>\n",
       "      <td>5</td>\n",
       "      <td>33.9</td>\n",
       "      <td>-117.9</td>\n",
       "      <td>13216</td>\n",
       "      <td>Fullerton</td>\n",
       "      <td>Orange County</td>\n",
       "      <td>California</td>\n",
       "      <td>United States</td>\n",
       "    </tr>\n",
       "    <tr>\n",
       "      <th>31343</th>\n",
       "      <td>2017-11-03</td>\n",
       "      <td>6</td>\n",
       "      <td>33.9</td>\n",
       "      <td>-117.9</td>\n",
       "      <td>13216</td>\n",
       "      <td>Fullerton</td>\n",
       "      <td>Orange County</td>\n",
       "      <td>California</td>\n",
       "      <td>United States</td>\n",
       "    </tr>\n",
       "    <tr>\n",
       "      <th>31344</th>\n",
       "      <td>2017-11-03</td>\n",
       "      <td>7</td>\n",
       "      <td>33.9</td>\n",
       "      <td>-117.9</td>\n",
       "      <td>13216</td>\n",
       "      <td>Fullerton</td>\n",
       "      <td>Orange County</td>\n",
       "      <td>California</td>\n",
       "      <td>United States</td>\n",
       "    </tr>\n",
       "    <tr>\n",
       "      <th>31345</th>\n",
       "      <td>2017-11-03</td>\n",
       "      <td>8</td>\n",
       "      <td>33.9</td>\n",
       "      <td>-117.9</td>\n",
       "      <td>13216</td>\n",
       "      <td>Fullerton</td>\n",
       "      <td>Orange County</td>\n",
       "      <td>California</td>\n",
       "      <td>United States</td>\n",
       "    </tr>\n",
       "    <tr>\n",
       "      <th>31346</th>\n",
       "      <td>2017-11-03</td>\n",
       "      <td>9</td>\n",
       "      <td>33.9</td>\n",
       "      <td>-117.9</td>\n",
       "      <td>13216</td>\n",
       "      <td>Fullerton</td>\n",
       "      <td>Orange County</td>\n",
       "      <td>California</td>\n",
       "      <td>United States</td>\n",
       "    </tr>\n",
       "    <tr>\n",
       "      <th>31347</th>\n",
       "      <td>2017-11-03</td>\n",
       "      <td>10</td>\n",
       "      <td>33.9</td>\n",
       "      <td>-117.9</td>\n",
       "      <td>13216</td>\n",
       "      <td>Fullerton</td>\n",
       "      <td>Orange County</td>\n",
       "      <td>California</td>\n",
       "      <td>United States</td>\n",
       "    </tr>\n",
       "    <tr>\n",
       "      <th>31348</th>\n",
       "      <td>2017-11-03</td>\n",
       "      <td>11</td>\n",
       "      <td>33.9</td>\n",
       "      <td>-117.9</td>\n",
       "      <td>13216</td>\n",
       "      <td>Fullerton</td>\n",
       "      <td>Orange County</td>\n",
       "      <td>California</td>\n",
       "      <td>United States</td>\n",
       "    </tr>\n",
       "    <tr>\n",
       "      <th>31349</th>\n",
       "      <td>2017-11-03</td>\n",
       "      <td>12</td>\n",
       "      <td>33.9</td>\n",
       "      <td>-117.9</td>\n",
       "      <td>13216</td>\n",
       "      <td>Fullerton</td>\n",
       "      <td>Orange County</td>\n",
       "      <td>California</td>\n",
       "      <td>United States</td>\n",
       "    </tr>\n",
       "    <tr>\n",
       "      <th>31350</th>\n",
       "      <td>2017-11-03</td>\n",
       "      <td>13</td>\n",
       "      <td>33.9</td>\n",
       "      <td>-117.9</td>\n",
       "      <td>13216</td>\n",
       "      <td>Fullerton</td>\n",
       "      <td>Orange County</td>\n",
       "      <td>California</td>\n",
       "      <td>United States</td>\n",
       "    </tr>\n",
       "    <tr>\n",
       "      <th>31351</th>\n",
       "      <td>2017-11-03</td>\n",
       "      <td>14</td>\n",
       "      <td>33.9</td>\n",
       "      <td>-117.9</td>\n",
       "      <td>13216</td>\n",
       "      <td>Fullerton</td>\n",
       "      <td>Orange County</td>\n",
       "      <td>California</td>\n",
       "      <td>United States</td>\n",
       "    </tr>\n",
       "    <tr>\n",
       "      <th>31352</th>\n",
       "      <td>2017-11-03</td>\n",
       "      <td>15</td>\n",
       "      <td>33.9</td>\n",
       "      <td>-117.9</td>\n",
       "      <td>13216</td>\n",
       "      <td>Fullerton</td>\n",
       "      <td>Orange County</td>\n",
       "      <td>California</td>\n",
       "      <td>United States</td>\n",
       "    </tr>\n",
       "    <tr>\n",
       "      <th>31353</th>\n",
       "      <td>2017-11-03</td>\n",
       "      <td>16</td>\n",
       "      <td>46.2</td>\n",
       "      <td>6.1</td>\n",
       "      <td>49</td>\n",
       "      <td></td>\n",
       "      <td></td>\n",
       "      <td>Genève</td>\n",
       "      <td>Schweiz/Suisse/Svizzera/Svizra</td>\n",
       "    </tr>\n",
       "    <tr>\n",
       "      <th>31354</th>\n",
       "      <td>2017-11-03</td>\n",
       "      <td>17</td>\n",
       "      <td>33.9</td>\n",
       "      <td>-117.9</td>\n",
       "      <td>13216</td>\n",
       "      <td>Fullerton</td>\n",
       "      <td>Orange County</td>\n",
       "      <td>California</td>\n",
       "      <td>United States</td>\n",
       "    </tr>\n",
       "    <tr>\n",
       "      <th>31355</th>\n",
       "      <td>2017-11-03</td>\n",
       "      <td>18</td>\n",
       "      <td>33.9</td>\n",
       "      <td>-117.9</td>\n",
       "      <td>13216</td>\n",
       "      <td>Fullerton</td>\n",
       "      <td>Orange County</td>\n",
       "      <td>California</td>\n",
       "      <td>United States</td>\n",
       "    </tr>\n",
       "    <tr>\n",
       "      <th>31356</th>\n",
       "      <td>2017-11-03</td>\n",
       "      <td>19</td>\n",
       "      <td>33.9</td>\n",
       "      <td>-117.9</td>\n",
       "      <td>13216</td>\n",
       "      <td>Fullerton</td>\n",
       "      <td>Orange County</td>\n",
       "      <td>California</td>\n",
       "      <td>United States</td>\n",
       "    </tr>\n",
       "    <tr>\n",
       "      <th>31357</th>\n",
       "      <td>2017-11-03</td>\n",
       "      <td>20</td>\n",
       "      <td>33.9</td>\n",
       "      <td>-117.9</td>\n",
       "      <td>13216</td>\n",
       "      <td>Fullerton</td>\n",
       "      <td>Orange County</td>\n",
       "      <td>California</td>\n",
       "      <td>United States</td>\n",
       "    </tr>\n",
       "    <tr>\n",
       "      <th>31358</th>\n",
       "      <td>2017-11-03</td>\n",
       "      <td>21</td>\n",
       "      <td>33.9</td>\n",
       "      <td>-117.9</td>\n",
       "      <td>13216</td>\n",
       "      <td>Fullerton</td>\n",
       "      <td>Orange County</td>\n",
       "      <td>California</td>\n",
       "      <td>United States</td>\n",
       "    </tr>\n",
       "    <tr>\n",
       "      <th>31359</th>\n",
       "      <td>2017-11-03</td>\n",
       "      <td>22</td>\n",
       "      <td>33.9</td>\n",
       "      <td>-117.9</td>\n",
       "      <td>13216</td>\n",
       "      <td>Fullerton</td>\n",
       "      <td>Orange County</td>\n",
       "      <td>California</td>\n",
       "      <td>United States</td>\n",
       "    </tr>\n",
       "    <tr>\n",
       "      <th>31360</th>\n",
       "      <td>2017-11-03</td>\n",
       "      <td>23</td>\n",
       "      <td>33.9</td>\n",
       "      <td>-117.9</td>\n",
       "      <td>13216</td>\n",
       "      <td>Fullerton</td>\n",
       "      <td>Orange County</td>\n",
       "      <td>California</td>\n",
       "      <td>United States</td>\n",
       "    </tr>\n",
       "  </tbody>\n",
       "</table>\n",
       "</div>"
      ],
      "text/plain": [
       "            date  hour  latitude  longitude  count       city         county  \\\n",
       "31337 2017-11-03     0      33.9     -117.9  13216  Fullerton  Orange County   \n",
       "31338 2017-11-03     1      33.9     -117.9  13216  Fullerton  Orange County   \n",
       "31339 2017-11-03     2      33.9     -117.9  13216  Fullerton  Orange County   \n",
       "31340 2017-11-03     3      33.9     -117.9  13216  Fullerton  Orange County   \n",
       "31341 2017-11-03     4      33.9     -117.9  13216  Fullerton  Orange County   \n",
       "31342 2017-11-03     5      33.9     -117.9  13216  Fullerton  Orange County   \n",
       "31343 2017-11-03     6      33.9     -117.9  13216  Fullerton  Orange County   \n",
       "31344 2017-11-03     7      33.9     -117.9  13216  Fullerton  Orange County   \n",
       "31345 2017-11-03     8      33.9     -117.9  13216  Fullerton  Orange County   \n",
       "31346 2017-11-03     9      33.9     -117.9  13216  Fullerton  Orange County   \n",
       "31347 2017-11-03    10      33.9     -117.9  13216  Fullerton  Orange County   \n",
       "31348 2017-11-03    11      33.9     -117.9  13216  Fullerton  Orange County   \n",
       "31349 2017-11-03    12      33.9     -117.9  13216  Fullerton  Orange County   \n",
       "31350 2017-11-03    13      33.9     -117.9  13216  Fullerton  Orange County   \n",
       "31351 2017-11-03    14      33.9     -117.9  13216  Fullerton  Orange County   \n",
       "31352 2017-11-03    15      33.9     -117.9  13216  Fullerton  Orange County   \n",
       "31353 2017-11-03    16      46.2        6.1     49                             \n",
       "31354 2017-11-03    17      33.9     -117.9  13216  Fullerton  Orange County   \n",
       "31355 2017-11-03    18      33.9     -117.9  13216  Fullerton  Orange County   \n",
       "31356 2017-11-03    19      33.9     -117.9  13216  Fullerton  Orange County   \n",
       "31357 2017-11-03    20      33.9     -117.9  13216  Fullerton  Orange County   \n",
       "31358 2017-11-03    21      33.9     -117.9  13216  Fullerton  Orange County   \n",
       "31359 2017-11-03    22      33.9     -117.9  13216  Fullerton  Orange County   \n",
       "31360 2017-11-03    23      33.9     -117.9  13216  Fullerton  Orange County   \n",
       "\n",
       "            state                         country  \n",
       "31337  California                   United States  \n",
       "31338  California                   United States  \n",
       "31339  California                   United States  \n",
       "31340  California                   United States  \n",
       "31341  California                   United States  \n",
       "31342  California                   United States  \n",
       "31343  California                   United States  \n",
       "31344  California                   United States  \n",
       "31345  California                   United States  \n",
       "31346  California                   United States  \n",
       "31347  California                   United States  \n",
       "31348  California                   United States  \n",
       "31349  California                   United States  \n",
       "31350  California                   United States  \n",
       "31351  California                   United States  \n",
       "31352  California                   United States  \n",
       "31353      Genève  Schweiz/Suisse/Svizzera/Svizra  \n",
       "31354  California                   United States  \n",
       "31355  California                   United States  \n",
       "31356  California                   United States  \n",
       "31357  California                   United States  \n",
       "31358  California                   United States  \n",
       "31359  California                   United States  \n",
       "31360  California                   United States  "
      ]
     },
     "execution_count": 57,
     "metadata": {},
     "output_type": "execute_result"
    }
   ],
   "source": [
    "df_locations_merged[df_locations_merged['date']==pd.to_datetime('2017-11-03')]"
   ]
  },
  {
   "cell_type": "markdown",
   "id": "7aecb263-f3fb-44f0-8fc8-503396c92136",
   "metadata": {},
   "source": [
    "Okay! So for most of the day I was just in California but at 4pm I was suddenly in Switzerland! \n",
    "I had traveled to Switzerland earlier that year, so it didn't raise an alarm when I saw that in the list of countries. But I definitely didn't teleport there and back to Fullerton on this day! \n",
    "\n",
    "And another strange thing is that I double checked in my Google Timeline accessible online, and it does *not* have that point! I'm not sure what is different about the Takeout data. Anyway, I will obviously delete that row.\n",
    "\n",
    "This makes me concerned that there may be other points that are way off. I'm okay with this data not being perfect, but I want to at least do some basic checking to see if I can find anything else *obviously* wrong. I also want to think about other ways I might have been able to identify this point.\n",
    "\n",
    "One simple thing I could do is estimate my speed by taking the distance divided by the time difference. This is of course not very precise because I'm only rounding to the nearest hour, but it's at least a basic check."
   ]
  },
  {
   "cell_type": "code",
   "execution_count": 58,
   "id": "5cd77faf-015d-4984-9eb4-63e0a78dfb40",
   "metadata": {},
   "outputs": [],
   "source": [
    "for j in range(1,len(df_locations)):\n",
    "    if df_locations.loc[j,'date']==df_locations.loc[j-1,'date']:\n",
    "        timediff = df_locations.loc[j,'hour'] - df_locations.loc[j-1,'hour']\n",
    "        df_locations.loc[j,'est. speed'] = (df_locations.loc[j,'distance'].miles)/(timediff)\n",
    "    else: \n",
    "        daydiff=(df_locations.loc[j,'date']-df_locations.loc[j-1,'date']).days\n",
    "        timediff=df_locations.loc[j,'hour'] + 24*daydiff - df_locations.loc[j-1,'hour']\n",
    "        df_locations.loc[j,'est. speed'] = (df_locations.loc[j,'distance'].miles)/(timediff)"
   ]
  },
  {
   "cell_type": "code",
   "execution_count": 59,
   "id": "86df0218-4a46-44d8-b382-3dbb23e7ac1b",
   "metadata": {},
   "outputs": [
    {
     "data": {
      "text/html": [
       "<div>\n",
       "<style scoped>\n",
       "    .dataframe tbody tr th:only-of-type {\n",
       "        vertical-align: middle;\n",
       "    }\n",
       "\n",
       "    .dataframe tbody tr th {\n",
       "        vertical-align: top;\n",
       "    }\n",
       "\n",
       "    .dataframe thead th {\n",
       "        text-align: right;\n",
       "    }\n",
       "</style>\n",
       "<table border=\"1\" class=\"dataframe\">\n",
       "  <thead>\n",
       "    <tr style=\"text-align: right;\">\n",
       "      <th></th>\n",
       "      <th>date</th>\n",
       "      <th>hour</th>\n",
       "      <th>latitudeE7</th>\n",
       "      <th>longitudeE7</th>\n",
       "      <th>latitude</th>\n",
       "      <th>longitude</th>\n",
       "      <th>distance</th>\n",
       "      <th>est. speed</th>\n",
       "    </tr>\n",
       "  </thead>\n",
       "  <tbody>\n",
       "    <tr>\n",
       "      <th>19402</th>\n",
       "      <td>2016-06-14</td>\n",
       "      <td>16</td>\n",
       "      <td>3.342126e+08</td>\n",
       "      <td>-1.077232e+09</td>\n",
       "      <td>33.421256</td>\n",
       "      <td>-107.723192</td>\n",
       "      <td>2996.8230180968876 km</td>\n",
       "      <td>931.069746</td>\n",
       "    </tr>\n",
       "    <tr>\n",
       "      <th>31353</th>\n",
       "      <td>2017-11-03</td>\n",
       "      <td>16</td>\n",
       "      <td>4.623120e+08</td>\n",
       "      <td>6.054595e+07</td>\n",
       "      <td>46.231196</td>\n",
       "      <td>6.054595</td>\n",
       "      <td>9506.607334798833 km</td>\n",
       "      <td>5907.131934</td>\n",
       "    </tr>\n",
       "    <tr>\n",
       "      <th>31354</th>\n",
       "      <td>2017-11-03</td>\n",
       "      <td>17</td>\n",
       "      <td>3.387986e+08</td>\n",
       "      <td>-1.178856e+09</td>\n",
       "      <td>33.879859</td>\n",
       "      <td>-117.885602</td>\n",
       "      <td>9507.160493571973 km</td>\n",
       "      <td>5907.475651</td>\n",
       "    </tr>\n",
       "  </tbody>\n",
       "</table>\n",
       "</div>"
      ],
      "text/plain": [
       "             date  hour    latitudeE7   longitudeE7   latitude   longitude  \\\n",
       "19402  2016-06-14    16  3.342126e+08 -1.077232e+09  33.421256 -107.723192   \n",
       "31353  2017-11-03    16  4.623120e+08  6.054595e+07  46.231196    6.054595   \n",
       "31354  2017-11-03    17  3.387986e+08 -1.178856e+09  33.879859 -117.885602   \n",
       "\n",
       "                    distance   est. speed  \n",
       "19402  2996.8230180968876 km   931.069746  \n",
       "31353   9506.607334798833 km  5907.131934  \n",
       "31354   9507.160493571973 km  5907.475651  "
      ]
     },
     "execution_count": 59,
     "metadata": {},
     "output_type": "execute_result"
    }
   ],
   "source": [
    "# Check for speeds greater than 800mph\n",
    "df_locations[(abs(df_locations['est. speed'])>800)]\n",
    "# I could check more but I'm just goint to go with this for now"
   ]
  },
  {
   "cell_type": "markdown",
   "id": "9d801f20-d163-48c0-afc9-58423a0bd548",
   "metadata": {},
   "source": [
    "As expected, my teleportation to and from Switzerland shows a ridiculous estimated speed. \n",
    "\n",
    "There's also one more interesting point on 2016-06-14. The estimated speed isn't nearly as ridiculous when you remember that my time measurement is not precise, but still worth checking out. Let me look at those entries in my data frame including location names:"
   ]
  },
  {
   "cell_type": "code",
   "execution_count": 60,
   "id": "d73cee2d-bd57-4ff0-9028-3892392cf30f",
   "metadata": {},
   "outputs": [
    {
     "data": {
      "text/html": [
       "<div>\n",
       "<style scoped>\n",
       "    .dataframe tbody tr th:only-of-type {\n",
       "        vertical-align: middle;\n",
       "    }\n",
       "\n",
       "    .dataframe tbody tr th {\n",
       "        vertical-align: top;\n",
       "    }\n",
       "\n",
       "    .dataframe thead th {\n",
       "        text-align: right;\n",
       "    }\n",
       "</style>\n",
       "<table border=\"1\" class=\"dataframe\">\n",
       "  <thead>\n",
       "    <tr style=\"text-align: right;\">\n",
       "      <th></th>\n",
       "      <th>date</th>\n",
       "      <th>hour</th>\n",
       "      <th>latitude</th>\n",
       "      <th>longitude</th>\n",
       "      <th>count</th>\n",
       "      <th>city</th>\n",
       "      <th>county</th>\n",
       "      <th>state</th>\n",
       "      <th>country</th>\n",
       "    </tr>\n",
       "  </thead>\n",
       "  <tbody>\n",
       "    <tr>\n",
       "      <th>19400</th>\n",
       "      <td>2016-06-14</td>\n",
       "      <td>13</td>\n",
       "      <td>40.8</td>\n",
       "      <td>-73.9</td>\n",
       "      <td>61</td>\n",
       "      <td>City of New York</td>\n",
       "      <td></td>\n",
       "      <td>New York</td>\n",
       "      <td>United States</td>\n",
       "    </tr>\n",
       "    <tr>\n",
       "      <th>19401</th>\n",
       "      <td>2016-06-14</td>\n",
       "      <td>14</td>\n",
       "      <td>40.4</td>\n",
       "      <td>-75.0</td>\n",
       "      <td>1</td>\n",
       "      <td>Solebury Township</td>\n",
       "      <td>Bucks County</td>\n",
       "      <td>Pennsylvania</td>\n",
       "      <td>United States</td>\n",
       "    </tr>\n",
       "    <tr>\n",
       "      <th>19402</th>\n",
       "      <td>2016-06-14</td>\n",
       "      <td>16</td>\n",
       "      <td>33.4</td>\n",
       "      <td>-107.7</td>\n",
       "      <td>1</td>\n",
       "      <td></td>\n",
       "      <td>Sierra County</td>\n",
       "      <td>New Mexico</td>\n",
       "      <td>United States</td>\n",
       "    </tr>\n",
       "    <tr>\n",
       "      <th>19403</th>\n",
       "      <td>2016-06-14</td>\n",
       "      <td>17</td>\n",
       "      <td>32.9</td>\n",
       "      <td>-97.0</td>\n",
       "      <td>146</td>\n",
       "      <td>Irving</td>\n",
       "      <td>Dallas County</td>\n",
       "      <td>Texas</td>\n",
       "      <td>United States</td>\n",
       "    </tr>\n",
       "  </tbody>\n",
       "</table>\n",
       "</div>"
      ],
      "text/plain": [
       "            date  hour  latitude  longitude  count               city  \\\n",
       "19400 2016-06-14    13      40.8      -73.9     61   City of New York   \n",
       "19401 2016-06-14    14      40.4      -75.0      1  Solebury Township   \n",
       "19402 2016-06-14    16      33.4     -107.7      1                      \n",
       "19403 2016-06-14    17      32.9      -97.0    146             Irving   \n",
       "\n",
       "              county         state        country  \n",
       "19400                     New York  United States  \n",
       "19401   Bucks County  Pennsylvania  United States  \n",
       "19402  Sierra County    New Mexico  United States  \n",
       "19403  Dallas County         Texas  United States  "
      ]
     },
     "execution_count": 60,
     "metadata": {},
     "output_type": "execute_result"
    }
   ],
   "source": [
    "df_locations_merged.loc[19400:19403,:]"
   ]
  },
  {
   "cell_type": "markdown",
   "id": "eaedbb6d-54fe-4494-9f0f-4328eb4cf881",
   "metadata": {},
   "source": [
    "So I know that in June 2016 I took a trip to New York, and this shows my return to DFW. Pennsylvania might be close enough to on the way. *However*, why would my flight go through New Mexico? \n",
    "\n",
    "Once again, I checked my Google Timeline, and it just shows NYC to DFW, not this New Mexico point! So, note for later, find out what the difference is between this download and what I get on the Timeline online. For now, I'll just add this to my list of points to manually delete."
   ]
  },
  {
   "cell_type": "code",
   "execution_count": 61,
   "id": "11781302-0df0-4458-aa73-b2a59eed9607",
   "metadata": {},
   "outputs": [],
   "source": [
    "#Hard coding in dropping bad 11-03-17 and 06-14-16 data point for now, \n",
    "# Removing from locations and merged locations data frames\n",
    "# NOTE FOR LATER: remove from simple data frame as well - will be a different row number\n",
    "df_locations.drop(31353,inplace=True)\n",
    "df_locations.drop(19402,inplace=True)\n",
    "df_locations_merged.drop(31353,inplace=True)\n",
    "df_locations_merged.drop(19402,inplace=True)"
   ]
  },
  {
   "cell_type": "markdown",
   "id": "3ebb8a03-24db-4e3c-a8d8-1923ab623100",
   "metadata": {},
   "source": [
    "Now without that point I should redo my distance data frame:"
   ]
  },
  {
   "cell_type": "code",
   "execution_count": 62,
   "id": "a20efafe-ca98-4dab-a975-1b3215756f11",
   "metadata": {},
   "outputs": [],
   "source": [
    "df_distance=df_locations.groupby('date')['distance'].sum().reset_index()\n",
    "df_distance['miles']=[x.miles for x in df_distance['distance']]"
   ]
  },
  {
   "cell_type": "markdown",
   "id": "9f7684c6-266e-4b7b-b5fc-a71f334d18ee",
   "metadata": {},
   "source": [
    "## Distance over Time"
   ]
  },
  {
   "cell_type": "markdown",
   "id": "802d2fd0-f83f-43d1-a2b3-2e490b8ee212",
   "metadata": {},
   "source": [
    "Now that I have clean(er) data, I'm going to group by year to see my total miles each year."
   ]
  },
  {
   "cell_type": "code",
   "execution_count": 63,
   "id": "92212327-b099-413d-bb16-ffbdb2312ad2",
   "metadata": {},
   "outputs": [],
   "source": [
    "df_distance['year']=[x.year for x in df_distance['date']]"
   ]
  },
  {
   "cell_type": "code",
   "execution_count": 64,
   "id": "f8229b48-13b3-4cd7-b857-2321902e0c60",
   "metadata": {},
   "outputs": [],
   "source": [
    "df_distance_yearly=df_distance.groupby(['year'])['miles'].sum().reset_index()"
   ]
  },
  {
   "cell_type": "code",
   "execution_count": 65,
   "id": "ec256683-b9d7-4709-86e9-7b2d06af4616",
   "metadata": {},
   "outputs": [
    {
     "data": {
      "text/plain": [
       "Text(0.5, 0, 'Year')"
      ]
     },
     "execution_count": 65,
     "metadata": {},
     "output_type": "execute_result"
    },
    {
     "data": {
      "image/png": "[encoded data removed]",
      "text/plain": [
       "<Figure size 640x480 with 1 Axes>"
      ]
     },
     "metadata": {},
     "output_type": "display_data"
    }
   ],
   "source": [
    "df_distance_yearly.plot(kind='bar',y='miles',x='year',legend=False)\n",
    "plt.ylabel('Estimated Miles')\n",
    "plt.xlabel('Year')"
   ]
  },
  {
   "cell_type": "markdown",
   "id": "55b8dc30-b0d5-49a2-b0c3-b6f4890a070f",
   "metadata": {},
   "source": [
    "I love seeing this plot tell the story of my life these past 9 years! 2017, 2018, and 2022 all had more major work trips than usual. 2016 was when I was really trying hard to focus and finish my dissertation, so I traveled a bit less (at least major trips). 2020 was...2020. And so was 2021, although I did start traveling more that year! \n",
    "\n",
    "**Note about 2023:** I downloaded this data in October 2023, so it is not the full year. However, I haven't traveled nearly as much in the last few months, so it will probably not change too much once I download the full year."
   ]
  },
  {
   "cell_type": "markdown",
   "id": "4468a742-725b-498a-8637-99394f9d7d70",
   "metadata": {},
   "source": [
    "*Total* mileage is one thing, but another interesting measure is how many days I was traveling more than, let's say 500 miles. This will show a little bit of a different picture, since a huge trip (like to China in 2014) can add a lot of miles for just a couple of travel days. "
   ]
  },
  {
   "cell_type": "code",
   "execution_count": 66,
   "id": "64df8c56-60bc-43dc-be23-9702b1995a60",
   "metadata": {},
   "outputs": [],
   "source": [
    "days_over500 = df_distance[df_distance['miles']>500].reset_index()"
   ]
  },
  {
   "cell_type": "code",
   "execution_count": 67,
   "id": "493e71cf-804b-41ef-9d11-56628faca379",
   "metadata": {},
   "outputs": [
    {
     "data": {
      "text/html": [
       "<div>\n",
       "<style scoped>\n",
       "    .dataframe tbody tr th:only-of-type {\n",
       "        vertical-align: middle;\n",
       "    }\n",
       "\n",
       "    .dataframe tbody tr th {\n",
       "        vertical-align: top;\n",
       "    }\n",
       "\n",
       "    .dataframe thead th {\n",
       "        text-align: right;\n",
       "    }\n",
       "</style>\n",
       "<table border=\"1\" class=\"dataframe\">\n",
       "  <thead>\n",
       "    <tr style=\"text-align: right;\">\n",
       "      <th></th>\n",
       "      <th>index</th>\n",
       "      <th>date</th>\n",
       "      <th>distance</th>\n",
       "      <th>miles</th>\n",
       "      <th>year</th>\n",
       "    </tr>\n",
       "  </thead>\n",
       "  <tbody>\n",
       "    <tr>\n",
       "      <th>0</th>\n",
       "      <td>133</td>\n",
       "      <td>2014-07-14</td>\n",
       "      <td>3449.005341237435 km</td>\n",
       "      <td>2143.112561</td>\n",
       "      <td>2014</td>\n",
       "    </tr>\n",
       "    <tr>\n",
       "      <th>1</th>\n",
       "      <td>143</td>\n",
       "      <td>2014-07-24</td>\n",
       "      <td>3305.9216437267814 km</td>\n",
       "      <td>2054.204473</td>\n",
       "      <td>2014</td>\n",
       "    </tr>\n",
       "    <tr>\n",
       "      <th>2</th>\n",
       "      <td>154</td>\n",
       "      <td>2014-08-04</td>\n",
       "      <td>2013.6188975833036 km</td>\n",
       "      <td>1251.204775</td>\n",
       "      <td>2014</td>\n",
       "    </tr>\n",
       "    <tr>\n",
       "      <th>3</th>\n",
       "      <td>155</td>\n",
       "      <td>2014-08-05</td>\n",
       "      <td>10081.237902966046 km</td>\n",
       "      <td>6264.190815</td>\n",
       "      <td>2014</td>\n",
       "    </tr>\n",
       "    <tr>\n",
       "      <th>4</th>\n",
       "      <td>159</td>\n",
       "      <td>2014-08-09</td>\n",
       "      <td>913.7273233000144 km</td>\n",
       "      <td>567.763836</td>\n",
       "      <td>2014</td>\n",
       "    </tr>\n",
       "    <tr>\n",
       "      <th>...</th>\n",
       "      <td>...</td>\n",
       "      <td>...</td>\n",
       "      <td>...</td>\n",
       "      <td>...</td>\n",
       "      <td>...</td>\n",
       "    </tr>\n",
       "    <tr>\n",
       "      <th>157</th>\n",
       "      <td>3361</td>\n",
       "      <td>2023-05-17</td>\n",
       "      <td>1996.7740706471259 km</td>\n",
       "      <td>1240.737885</td>\n",
       "      <td>2023</td>\n",
       "    </tr>\n",
       "    <tr>\n",
       "      <th>158</th>\n",
       "      <td>3375</td>\n",
       "      <td>2023-05-31</td>\n",
       "      <td>2028.3762558480594 km</td>\n",
       "      <td>1260.374572</td>\n",
       "      <td>2023</td>\n",
       "    </tr>\n",
       "    <tr>\n",
       "      <th>159</th>\n",
       "      <td>3404</td>\n",
       "      <td>2023-06-29</td>\n",
       "      <td>3055.1166233149224 km</td>\n",
       "      <td>1898.361459</td>\n",
       "      <td>2023</td>\n",
       "    </tr>\n",
       "    <tr>\n",
       "      <th>160</th>\n",
       "      <td>3438</td>\n",
       "      <td>2023-08-02</td>\n",
       "      <td>1396.485373275685 km</td>\n",
       "      <td>867.735781</td>\n",
       "      <td>2023</td>\n",
       "    </tr>\n",
       "    <tr>\n",
       "      <th>161</th>\n",
       "      <td>3439</td>\n",
       "      <td>2023-08-03</td>\n",
       "      <td>1064.2164291718846 km</td>\n",
       "      <td>661.273431</td>\n",
       "      <td>2023</td>\n",
       "    </tr>\n",
       "  </tbody>\n",
       "</table>\n",
       "<p>162 rows × 5 columns</p>\n",
       "</div>"
      ],
      "text/plain": [
       "     index        date               distance        miles  year\n",
       "0      133  2014-07-14   3449.005341237435 km  2143.112561  2014\n",
       "1      143  2014-07-24  3305.9216437267814 km  2054.204473  2014\n",
       "2      154  2014-08-04  2013.6188975833036 km  1251.204775  2014\n",
       "3      155  2014-08-05  10081.237902966046 km  6264.190815  2014\n",
       "4      159  2014-08-09   913.7273233000144 km   567.763836  2014\n",
       "..     ...         ...                    ...          ...   ...\n",
       "157   3361  2023-05-17  1996.7740706471259 km  1240.737885  2023\n",
       "158   3375  2023-05-31  2028.3762558480594 km  1260.374572  2023\n",
       "159   3404  2023-06-29  3055.1166233149224 km  1898.361459  2023\n",
       "160   3438  2023-08-02   1396.485373275685 km   867.735781  2023\n",
       "161   3439  2023-08-03  1064.2164291718846 km   661.273431  2023\n",
       "\n",
       "[162 rows x 5 columns]"
      ]
     },
     "execution_count": 67,
     "metadata": {},
     "output_type": "execute_result"
    }
   ],
   "source": [
    "days_over500"
   ]
  },
  {
   "cell_type": "code",
   "execution_count": 68,
   "id": "f05bca1a-0cc7-4817-a4c8-1274e23c8023",
   "metadata": {},
   "outputs": [],
   "source": [
    "days_over500 = days_over500.groupby(['year']).aggregate(count=('date','count')).reset_index()"
   ]
  },
  {
   "cell_type": "code",
   "execution_count": 69,
   "id": "11340c5b-d5fd-4c30-ae5f-6496707623d5",
   "metadata": {},
   "outputs": [
    {
     "data": {
      "text/plain": [
       "Text(0.5, 1.0, 'Number of Days with Over 500 Miles')"
      ]
     },
     "execution_count": 69,
     "metadata": {},
     "output_type": "execute_result"
    },
    {
     "data": {
      "image/png": "[encoded data removed]",
      "text/plain": [
       "<Figure size 640x480 with 1 Axes>"
      ]
     },
     "metadata": {},
     "output_type": "display_data"
    }
   ],
   "source": [
    "days_over500.plot(kind='bar',y='count',x='year',legend=False)\n",
    "plt.ylabel('Number of Days', fontsize=14)\n",
    "plt.xlabel('Year', fontsize=14)\n",
    "plt.title('Number of Days with Over 500 Miles')"
   ]
  },
  {
   "cell_type": "markdown",
   "id": "7ab33d82-174b-4766-b6fd-5ee5ea06d5e2",
   "metadata": {},
   "source": [
    "This is helpful for me to visualize how intense some of these years were!\n",
    "Having 20 days out of the year be traveling this far can feel like a lot. \n",
    "But note: this makes it look like 2014-2016 I didn't have as many days devoted to travel. *However* there were a lot of long days driving from Baton Rouge to Texas, which wouldn't show up because it's a bit under 500 miles.\n",
    "But this plot does show how much more often I was flying in the past few years. "
   ]
  },
  {
   "cell_type": "markdown",
   "id": "7dac238a-941e-4812-918b-e143db0d2149",
   "metadata": {},
   "source": [
    "## Notes for future work:\n",
    "- Think about whether there are other ways of checking for anomalous data points\n",
    "- Find out why Google Takeout data seems to give me some things that are not in Timeline\n",
    "- Explore more about the distributions of distances during different years"
   ]
  }
 ],
 "metadata": {
  "kernelspec": {
   "display_name": "Python 3 (ipykernel)",
   "language": "python",
   "name": "python3"
  },
  "language_info": {
   "codemirror_mode": {
    "name": "ipython",
    "version": 3
   },
   "file_extension": ".py",
   "mimetype": "text/x-python",
   "name": "python",
   "nbconvert_exporter": "python",
   "pygments_lexer": "ipython3",
   "version": "3.10.8"
  }
 },
 "nbformat": 4,
 "nbformat_minor": 5
}
